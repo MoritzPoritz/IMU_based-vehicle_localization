{
 "cells": [
  {
   "cell_type": "code",
   "execution_count": 1,
   "metadata": {},
   "outputs": [],
   "source": [
    "import pandas as pd \n",
    "import numpy as np \n",
    "import matplotlib.pyplot as plt\n",
    "import sys"
   ]
  },
  {
   "cell_type": "code",
   "execution_count": 2,
   "metadata": {},
   "outputs": [],
   "source": [
    "df_road_points = pd.read_csv('data/road_points_data.csv')\n"
   ]
  },
  {
   "cell_type": "code",
   "execution_count": 3,
   "metadata": {},
   "outputs": [],
   "source": [
    "df_surroundings = pd.read_csv('data/surroundings.csv')\n",
    "\n"
   ]
  },
  {
   "cell_type": "code",
   "execution_count": 4,
   "metadata": {},
   "outputs": [],
   "source": [
    "df_car_pos = pd.read_csv('data/car_positions.csv')"
   ]
  },
  {
   "cell_type": "code",
   "execution_count": 7,
   "metadata": {},
   "outputs": [],
   "source": [
    "df_pc = pd.read_csv('data/surroundings_pc.csv')\n",
    "df_pc_trans = pd.read_csv('data/surroundings_pc_trans.csv')\n"
   ]
  },
  {
   "cell_type": "code",
   "execution_count": 6,
   "metadata": {},
   "outputs": [],
   "source": [
    "%matplotlib qt\n",
    "\n",
    "import matplotlib.patches as patches\n",
    "fig, ax = plt.subplots()\n",
    "ax.plot(df_car_pos['x'].values, df_car_pos['y'].values, linewidth=2, color=\"purple\")\n",
    "ax.scatter(df_road_points['X'].values, -df_road_points['Y'].values,color='green', s=0.5, label=\"Road Reference Lines\", alpha=.5)\n",
    "ax.scatter(df_surroundings['Bounding_loc_x'].values, df_surroundings['Bounding_loc_y'].values, color=\"red\",s=0.2, label=\"Surrouding Objects\", alpha=.5)\n",
    "ax.scatter(df_surroundings['Transform_loc_x'].values, df_surroundings['Transform_loc_y'].values, color=\"yellow\",s=0.2, label=\"Surrouding Objects\", alpha=.5)\n",
    "ax.scatter(df_pc['x'].values, df_pc['y'].values, color=\"black\",s=0.2, label=\"Surrouding Objects\", alpha=.5)\n",
    "ax.scatter(df_pc_trans['x'].values, df_pc_trans['y'].values, color=\"blue\",s=0.2, label=\"Surrouding Objects\", alpha=.5)\n",
    "\n",
    "plt.xlim(-200,200)\n",
    "plt.ylim(-200,200)\n",
    "plt.legend(loc=\"upper left\")\n",
    "\n",
    "plt.show()"
   ]
  },
  {
   "cell_type": "code",
   "execution_count": null,
   "metadata": {},
   "outputs": [],
   "source": [
    "start_pos = np.empty((1,2),)\n"
   ]
  },
  {
   "cell_type": "code",
   "execution_count": 14,
   "metadata": {},
   "outputs": [
    {
     "data": {
      "text/plain": [
       "array([-1717986918,  1070176665])"
      ]
     },
     "execution_count": 14,
     "metadata": {},
     "output_type": "execute_result"
    }
   ],
   "source": [
    "start_pos"
   ]
  },
  {
   "cell_type": "code",
   "execution_count": null,
   "metadata": {},
   "outputs": [],
   "source": []
  }
 ],
 "metadata": {
  "interpreter": {
   "hash": "981abfea0e18570999fcb600e9460178291f8a3fb15401c6f1479c763076018b"
  },
  "kernelspec": {
   "display_name": "Python 3.8.13 ('autonomous')",
   "language": "python",
   "name": "python3"
  },
  "language_info": {
   "codemirror_mode": {
    "name": "ipython",
    "version": 3
   },
   "file_extension": ".py",
   "mimetype": "text/x-python",
   "name": "python",
   "nbconvert_exporter": "python",
   "pygments_lexer": "ipython3",
   "version": "3.8.13"
  },
  "orig_nbformat": 4
 },
 "nbformat": 4,
 "nbformat_minor": 2
}
