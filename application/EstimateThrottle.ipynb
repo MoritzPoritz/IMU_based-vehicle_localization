{
 "cells": [
  {
   "cell_type": "code",
   "execution_count": 19,
   "id": "68ab81d0",
   "metadata": {},
   "outputs": [],
   "source": [
    "import numpy as np\n",
    "import pandas as pd\n",
    "import matplotlib.pyplot as plt\n",
    "%matplotlib qt"
   ]
  },
  {
   "cell_type": "code",
   "execution_count": 2,
   "id": "d59a6d60",
   "metadata": {},
   "outputs": [],
   "source": [
    "data = pd.read_csv('../data/Simulation_test_run25_07_22_14_01_23.csv')"
   ]
  },
  {
   "cell_type": "code",
   "execution_count": 16,
   "id": "ce593fcc",
   "metadata": {},
   "outputs": [],
   "source": [
    "velocity = np.stack([data['velocity_x'], data['velocity_y']], axis=1)\n",
    "acceleration = np.stack([data['acc_x'], data['acc_y']], axis=1)"
   ]
  },
  {
   "cell_type": "code",
   "execution_count": 17,
   "id": "fb9287e9",
   "metadata": {},
   "outputs": [],
   "source": [
    "velocity_norm = []\n",
    "acc_norm = []\n",
    "for i,v in enumerate(velocity): \n",
    "    velocity_norm.append(np.linalg.norm(v))\n",
    "    acc_norm.append(np.linalg.norm(acceleration[i]))"
   ]
  },
  {
   "cell_type": "code",
   "execution_count": 21,
   "id": "17a6f8a7",
   "metadata": {},
   "outputs": [],
   "source": [
    "plt.plot(data['timestamps'], data['throttle'])\n",
    "plt.plot(data['timestamps'], velocity_norm)\n",
    "plt.plot(data['timestamps'], acc_norm)\n",
    "plt.grid(True)\n",
    "plt.show()"
   ]
  },
  {
   "cell_type": "code",
   "execution_count": null,
   "id": "ef7f8d54",
   "metadata": {},
   "outputs": [],
   "source": []
  },
  {
   "cell_type": "code",
   "execution_count": null,
   "id": "f68c0f7d",
   "metadata": {},
   "outputs": [],
   "source": []
  }
 ],
 "metadata": {
  "kernelspec": {
   "display_name": "Python 3 (ipykernel)",
   "language": "python",
   "name": "python3"
  },
  "language_info": {
   "codemirror_mode": {
    "name": "ipython",
    "version": 3
   },
   "file_extension": ".py",
   "mimetype": "text/x-python",
   "name": "python",
   "nbconvert_exporter": "python",
   "pygments_lexer": "ipython3",
   "version": "3.8.13"
  }
 },
 "nbformat": 4,
 "nbformat_minor": 5
}
