{
 "cells": [
  {
   "cell_type": "code",
   "execution_count": 1,
   "id": "f84f87e8",
   "metadata": {},
   "outputs": [],
   "source": [
    "import numpy as np\n",
    "import pandas as pd\n",
    "import cv2 as cv\n",
    "import matplotlib.pyplot as plt\n",
    "import sys\n",
    "import os\n",
    "from filterpy.monte_carlo import systematic_resample\n",
    "import scipy as sp\n",
    "%matplotlib inline"
   ]
  },
  {
   "cell_type": "code",
   "execution_count": 2,
   "id": "ce6ad96b",
   "metadata": {},
   "outputs": [],
   "source": [
    "PROJECT_ROOT = os.path.abspath(os.path.join(\n",
    "                  os.path.dirname('utils'), \n",
    "                  os.pardir)\n",
    ")\n",
    "sys.path.append(PROJECT_ROOT)"
   ]
  },
  {
   "cell_type": "code",
   "execution_count": 3,
   "id": "7cadc046",
   "metadata": {},
   "outputs": [
    {
     "name": "stderr",
     "output_type": "stream",
     "text": [
      "c:\\Users\\mso\\Anaconda3\\envs\\car\\lib\\site-packages\\_distutils_hack\\__init__.py:30: UserWarning: Setuptools is replacing distutils.\n",
      "  warnings.warn(\"Setuptools is replacing distutils.\")\n"
     ]
    }
   ],
   "source": [
    "from filterscripts import distance_map"
   ]
  },
  {
   "cell_type": "markdown",
   "id": "ea7a44de",
   "metadata": {},
   "source": [
    "## Load Distance Map"
   ]
  },
  {
   "cell_type": "code",
   "execution_count": 4,
   "id": "299f2bd2",
   "metadata": {},
   "outputs": [
    {
     "name": "stdout",
     "output_type": "stream",
     "text": [
      "Converted Points (135, 2)\n",
      "(2195, 2340)\n"
     ]
    }
   ],
   "source": [
    "dm = distance_map.DistanceMap(1, 100, 'road_points_data_test')"
   ]
  },
  {
   "cell_type": "markdown",
   "id": "63024e7d",
   "metadata": {},
   "source": [
    "## Create Uniform Particles"
   ]
  },
  {
   "cell_type": "code",
   "execution_count": 5,
   "id": "6ee11e77",
   "metadata": {},
   "outputs": [],
   "source": [
    "from numpy.random import uniform\n",
    "\n",
    "def create_uniform_particles(x_range, y_range, x_dot_range, y_dot_range,x_ddot_range, y_ddot_range, theta_range, delta_range,N):\n",
    "    particles = np.empty((N, 8))\n",
    "    particles[:, 0] = uniform(x_range[0], x_range[1], size=N)\n",
    "    particles[:, 1] = uniform(y_range[0], y_range[1], size=N)\n",
    "    particles[:, 2] = uniform(x_dot_range[0], x_dot_range[1], size=N)\n",
    "    particles[:, 3] = uniform(y_dot_range[0], y_dot_range[1], size=N)\n",
    "    particles[:, 4] = uniform(x_ddot_range[0], x_ddot_range[1], size=N)\n",
    "    particles[:, 5] = uniform(y_ddot_range[0], y_ddot_range[1], size=N)    \n",
    "    particles[:, 6] = uniform(theta_range[0], theta_range[1], size=N)\n",
    "    particles[:, 7] = uniform(delta_range[0], delta_range[1], size=N)\n",
    "    particles[:, 6] %= 2 * np.pi\n",
    "    particles[:, 7] %= 2 * np.pi\n",
    "    return particles"
   ]
  },
  {
   "cell_type": "markdown",
   "id": "cffd51b9",
   "metadata": {},
   "source": [
    "## Recreation of the model\n",
    "We have our state: \n",
    "\n",
    "$\\vec x = \\begin{bmatrix} x, y, \\dot x, \\dot y, \\ddot x , \\ddot y, \\theta, \\delta \\end{bmatrix}^T$\n",
    "\n",
    "And we have our control input: \n",
    "$\\vec u = \\begin{bmatrix} \\ddot x_u, \\ddot y_u, \\varphi \\end{bmatrix}$ \n",
    "\n",
    "We also have our measurements: \n",
    "$\\vec z = \\begin{bmatrix} \\ddot x_z, \\ddot y_z, \\theta \\end{bmatrix}$ \n",
    "\n",
    "The state transfer function does the following calculation: \n",
    "\n",
    "$$\n",
    "\\vec x_{t+1} = \n",
    "\\begin{bmatrix} x_{t+1}\\\\ y_{t+1}\\\\ \\dot x_{t+1}\\\\\n",
    "\\dot y_{t+1}\\\\\n",
    "\\ddot x_{t+1}\\\\\n",
    "\\ddot y_{t+1} \\\\\n",
    "\\theta_{t+1} \\\\ \n",
    "\\delta_{t+1} \\\\\n",
    "\\end{bmatrix}\n",
    "=\n",
    "\\begin{bmatrix} \n",
    "x_t + v\\cos(\\theta_t + \\delta_t)  \\Delta t\\\\ \n",
    "y_t + v\\sin(\\theta_t + \\delta_t)  \\Delta t\\\\ \n",
    "\\dot x_t + \\ddot x_{t} \\Delta t\\\\ \n",
    "\\dot y_t + \\ddot y_{t} \\Delta t\\\\\n",
    "%\\ddot x_t + \\dddot x_t \\Delta t \\\\ \n",
    "%\\ddot y_t + \\dddot y_t \\Delta t\\\\ \n",
    "\\ddot x_{u_t}\\\\\n",
    "\\ddot y_{u_t}\\\\\n",
    "\\theta_t + \\frac{v\\sin(\\delta)}{L} \\Delta t\\\\ \n",
    "\\delta + \\varphi \\Delta t\n",
    "\\end{bmatrix}$$"
   ]
  },
  {
   "cell_type": "code",
   "execution_count": 6,
   "id": "5e1ff849",
   "metadata": {},
   "outputs": [],
   "source": [
    "# x = x-0,y-1,x_dot-2, y_dot-3, x_ddot-4, y_ddot-5, theta-6, delta-7\n",
    "# u = acc_x, acc_y, steering \n",
    "def F(x, u, step, L): \n",
    "    # calculate nect velocity\n",
    "    x_dot_next = x[2] + (x[4] * step)\n",
    "    y_dot_next = x[3] + (x[5] * step)\n",
    "    # control input as next acceleration\n",
    "    x_ddot_next = u[0]\n",
    "    y_ddot_next = u[1]\n",
    "    # calculate velocity scalar\n",
    "    velocity = np.linalg.norm((x[2], x[3]))\n",
    "    # get next position\n",
    "    x_next = x[0] + (velocity*np.cos(x[6] + x[7]) * step)\n",
    "    y_next = x[1] + (velocity*np.sin(x[6] + x[7]) * step)\n",
    "    #calculate theta and delta\n",
    "    theta_next = x[6] + (((velocity*np.sin(x[7]))/L) * step)\n",
    "    delta_next = x[7] + (u[2] * step)\n",
    "    \n",
    "    \n",
    "    return np.array([x_next, y_next,x_dot_next, y_dot_next, x_ddot_next, y_ddot_next, theta_next, delta_next], dtype=object) "
   ]
  },
  {
   "cell_type": "markdown",
   "id": "e1601721",
   "metadata": {},
   "source": [
    "## Create Particle Filter"
   ]
  },
  {
   "cell_type": "code",
   "execution_count": 7,
   "id": "617f88d2",
   "metadata": {},
   "outputs": [],
   "source": [
    "def predict(particles, u, std, dt, L): \n",
    "    N = len(particles) \n",
    "    # Needs noise: not in a for loop\n",
    "    for i in range(len(particles)): \n",
    "        particles[i] = F(particles[i], u, dt, L)\n",
    "\n",
    "def update(particles, weights,z, distance_map):\n",
    "    for i, particle in enumerate(particles):\n",
    "        pi = dm.coord_to_image(particle[0:2])\n",
    "        if (pi[0] < dm.distance_map.shape[1] and pi[0] > 0 and pi[1] < dm.distance_map.shape[0] and pi[1] > 0): \n",
    "            road_distance = dm.distance_map[pi[1], pi[0]]# y,x\n",
    "            rotation_difference = abs((abs(particle[6]-z[2])+180) %360 - 180)# index 6 = theta\n",
    "            acceleration_difference = np.linalg.norm(abs(z[0:2] - particle[4:5]))\n",
    "            average_distance = (acceleration_difference + rotation_difference + road_distance) / 3\n",
    "            weights[i] = average_distance\n",
    "        else:    \n",
    "            weights[i] = 0\n",
    "                \n",
    "    weights += 1.e-300\n",
    "    weights /= sum(weights) # normalize\n",
    "    #print(weights)\n",
    "\n",
    "    \n",
    "def estimate(particles, weight): \n",
    "    pos = particles[:,0:2]\n",
    "    mean = np.average(pos, weights=weights, axis=0)\n",
    "    var  = np.average((pos - mean)**2, weights=weights, axis=0)\n",
    "    return mean, var\n",
    "\n",
    "\n",
    "def resample_from_index(particles, weights, indexes):\n",
    "    particles[:] = particles[indexes]\n",
    "    weights.resize(len(particles))\n",
    "    weights.fill (1.0 / len(weights))\n",
    "    \n",
    "def neff(weights):\n",
    "    return 1. / np.sum(np.square(weights))"
   ]
  },
  {
   "cell_type": "markdown",
   "id": "1f78358f",
   "metadata": {},
   "source": [
    "## Load and Prepare IMU Data"
   ]
  },
  {
   "cell_type": "code",
   "execution_count": 24,
   "id": "04820a62",
   "metadata": {},
   "outputs": [],
   "source": [
    "def get_rotation_matrix(theta): \n",
    "    return np.array([[np.cos(theta), np.sin(theta)], [-np.sin(theta), np.cos(theta)]])"
   ]
  },
  {
   "cell_type": "code",
   "execution_count": 48,
   "id": "3e6b8ac1",
   "metadata": {},
   "outputs": [],
   "source": [
    "simulation_data = pd.read_csv(\"../data/Simulation_test_run27_07_22_12_20_54.csv\")\n",
    "local_acc = np.stack((simulation_data['accelerometer_x'], simulation_data['accelerometer_y']), axis = 1)\n",
    "\n",
    "matrices = []\n",
    "for o in simulation_data['orientations'].values: \n",
    "    matrices.append(get_rotation_matrix(o))\n",
    "matrices = np.array(matrices)\n",
    "\n",
    "global_acc = []\n",
    "for i in range(len(matrices)): \n",
    "    global_acc.append(np.dot(local_acc[i], matrices[i]))\n",
    "global_acc = np.array(global_acc)\n",
    "simulation_data['accelerometer_x'] = global_acc[:, 0]\n",
    "simulation_data['accelerometer_y'] = global_acc[:, 1]\n",
    "\n",
    "simulation_data['positions_y'] = -simulation_data['positions_y']"
   ]
  },
  {
   "cell_type": "code",
   "execution_count": 51,
   "id": "bbdf65c1",
   "metadata": {},
   "outputs": [],
   "source": [
    "def plot_particles_and_mean(particles, weights, mu, ground_truth): \n",
    "    converted_particles = []\n",
    "    plt.imshow(dm.map_array, cmap=\"gray\")\n",
    "    for i, rp in enumerate(particles): \n",
    "        converted_particle = dm.coord_to_image(np.array([rp[0], rp[1]]))\n",
    "        plt.scatter(converted_particle[0], converted_particle[1], s=weights[i]*500, c='blue')\n",
    "    converted_particles = np.array(converted_particles)\n",
    "    mean = dm.coord_to_image(mu)\n",
    "    plt.plot(mean, 'ro')\n",
    "    \n",
    "    converted_gt = []\n",
    "    for g in ground_truth: \n",
    "        converted_gt.append(dm.coord_to_image(g))\n",
    "    converted_gt = np.array(converted_gt)\n",
    "    plt.scatter(converted_gt[:,0],converted_gt[:,1], c=\"yellow\")\n",
    "    plt.show()"
   ]
  },
  {
   "cell_type": "markdown",
   "id": "0cc99a2e",
   "metadata": {},
   "source": [
    "## First test"
   ]
  },
  {
   "cell_type": "markdown",
   "id": "3cd89f75",
   "metadata": {},
   "source": [
    "Faked Control Inputs"
   ]
  },
  {
   "cell_type": "markdown",
   "id": "08dde99c",
   "metadata": {},
   "source": [
    "Real COntrol Inputs"
   ]
  },
  {
   "cell_type": "code",
   "execution_count": 32,
   "id": "e612706f",
   "metadata": {},
   "outputs": [],
   "source": [
    "us = np.stack([simulation_data['acc_x'], simulation_data['acc_y'], simulation_data['steering'].values], axis=1)"
   ]
  },
  {
   "cell_type": "code",
   "execution_count": 33,
   "id": "df14cf83",
   "metadata": {},
   "outputs": [],
   "source": [
    "zs = np.stack([simulation_data['accelerometer_x'], simulation_data['accelerometer_y'], simulation_data['orientations']], axis=1)"
   ]
  },
  {
   "cell_type": "code",
   "execution_count": 49,
   "id": "78027aad",
   "metadata": {},
   "outputs": [],
   "source": [
    "ground_truth = np.stack([simulation_data['positions_x'], simulation_data['positions_y']], axis=1)"
   ]
  },
  {
   "cell_type": "code",
   "execution_count": 36,
   "id": "ad7d7a1a",
   "metadata": {},
   "outputs": [
    {
     "name": "stdout",
     "output_type": "stream",
     "text": [
      "resampled\n"
     ]
    }
   ],
   "source": [
    "seconds = 60\n",
    "dt = 1/10\n",
    "Ts=simulation_data['timestamps'].values\n",
    "xs = []\n",
    "L = 1.8\n",
    "N = 500\n",
    "\n",
    "x_min = dm.road_points[:,0].min()\n",
    "x_max = dm.road_points[:,0].max()\n",
    "\n",
    "y_min = dm.road_points[:,1].min()\n",
    "y_max = dm.road_points[:,1].max()\n",
    "\n",
    "\n",
    "x_range = [x_min, x_max]\n",
    "y_range = [y_min, y_max]\n",
    "x_dot_range = [0, 10]\n",
    "y_dot_range = [0, 10]\n",
    "x_ddot_range = [0, 10]\n",
    "y_ddot_range = [0, 10]\n",
    "\n",
    "theta_range = [0,2*np.pi]\n",
    "delta_range = [-np.pi/2, np.pi/2]\n",
    "particles = create_uniform_particles(x_range, y_range, x_dot_range, y_dot_range,x_ddot_range, y_ddot_range, theta_range, delta_range, N)\n",
    "weights = np.full((particles.shape[0],), 1/particles.shape[0])\n",
    "\n",
    "shall_plot = True\n",
    "\n",
    "for i,u in enumerate(Ts): \n",
    "    predict(particles, us[i], 0.02, Ts[i] - Ts[i-1], L)\n",
    "    \n",
    "    update(particles, weights,zs[i], dm.distance_map)\n",
    "    \n",
    "    if (neff(weights) < N/20): \n",
    "        print(\"resampled\")\n",
    "        indexes = systematic_resample(weights)\n",
    "        resample_from_index(particles, weights, indexes)\n",
    "        assert np.allclose(weights, 1/N)\n",
    " \n",
    "    mu, var = estimate(particles,weights)\n",
    "    \n",
    " \n",
    "    xs.append(mu)\n",
    "xs = np.array(xs)\n"
   ]
  },
  {
   "cell_type": "markdown",
   "id": "e51880f1",
   "metadata": {},
   "source": [
    "## Plot particles"
   ]
  },
  {
   "cell_type": "code",
   "execution_count": 53,
   "id": "d8c478e0",
   "metadata": {},
   "outputs": [],
   "source": [
    "plot_particles_and_mean(particles, weights, xs[len(xs)-1], ground_truth)\n"
   ]
  },
  {
   "cell_type": "code",
   "execution_count": 94,
   "id": "56c3277a",
   "metadata": {},
   "outputs": [],
   "source": [
    "converted_particles = []\n",
    "for rp in particles: \n",
    "    converted_particles.append(dm.coord_to_image(np.array([rp[0], rp[1]])))\n",
    "converted_particles = np.array(converted_particles)"
   ]
  },
  {
   "cell_type": "code",
   "execution_count": 95,
   "id": "3a1815e8",
   "metadata": {},
   "outputs": [],
   "source": [
    "for i, x in enumerate(xs): \n",
    "    xs[i] = dm.coord_to_image(x)"
   ]
  },
  {
   "cell_type": "code",
   "execution_count": 100,
   "id": "3f709942",
   "metadata": {},
   "outputs": [
    {
     "data": {
      "image/png": "[encoded data removed]",
      "text/plain": [
       "<Figure size 432x288 with 1 Axes>"
      ]
     },
     "metadata": {
      "needs_background": "light"
     },
     "output_type": "display_data"
    }
   ],
   "source": [
    "plt.imshow(dm.distance_map, cmap=\"gray\")\n",
    "\n",
    "#plt.scatter(converted_particles[:,0], converted_particles[:,1])\n",
    "plt.plot(xs[:,0], xs[:,1])\n",
    "plt.show()"
   ]
  },
  {
   "cell_type": "code",
   "execution_count": 118,
   "id": "9126e154",
   "metadata": {},
   "outputs": [
    {
     "data": {
      "text/plain": [
       "array([  89.87601539,    5.0498498 ,    7.04957677,    6.21794897,\n",
       "          1.45478145, -105.70230154,   43.13096862,    3.80378066,\n",
       "          1.87258304,    5.86148025,    4.88933962,   98.39890965,\n",
       "         29.8924621 ,    3.16951098,    8.8262027 ,    0.19607461,\n",
       "          1.14164864,  -80.00001231,   33.76801197,    1.77112524,\n",
       "          8.77728219,    2.97334356,    1.22797221,  -22.65526556,\n",
       "         48.4184837 ,    4.11103464,    8.87715832,    5.41262946,\n",
       "          0.51397297,  -97.16700096,   18.15731864,    9.01514783,\n",
       "          9.42057396,    5.59581735,    4.88502452,  -60.94060905,\n",
       "        -19.00678056,    2.78089541,    0.88077057,    0.68754409,\n",
       "          4.77713649,   75.65490949,  -21.77465498,    4.0160926 ,\n",
       "          5.7925454 ,    3.07008927,    1.10135832,   68.05551041,\n",
       "         -7.93227455,    0.9160211 ,    1.9939821 ,    5.21538   ,\n",
       "          4.84651794,  -60.40711443,  -19.72959774,    9.64086559,\n",
       "          2.04230472,    2.83494334,    5.23008751])"
      ]
     },
     "execution_count": 118,
     "metadata": {},
     "output_type": "execute_result"
    }
   ],
   "source": [
    "np.delete(particles,1)"
   ]
  },
  {
   "cell_type": "code",
   "execution_count": 80,
   "id": "25813d06",
   "metadata": {},
   "outputs": [
    {
     "data": {
      "text/plain": [
       "2195"
      ]
     },
     "execution_count": 80,
     "metadata": {},
     "output_type": "execute_result"
    }
   ],
   "source": [
    "len(dm.distance_map)"
   ]
  },
  {
   "cell_type": "code",
   "execution_count": 81,
   "id": "a3d3c614",
   "metadata": {},
   "outputs": [
    {
     "name": "stdout",
     "output_type": "stream",
     "text": [
      "10\n"
     ]
    }
   ],
   "source": [
    "a = 10\n",
    "b = 360\n",
    "print(abs((abs(a-b)+180) %360 - 180))"
   ]
  },
  {
   "cell_type": "code",
   "execution_count": 74,
   "id": "fc344f95",
   "metadata": {},
   "outputs": [
    {
     "data": {
      "text/plain": [
       "90"
      ]
     },
     "execution_count": 74,
     "metadata": {},
     "output_type": "execute_result"
    }
   ],
   "source": [
    "630 % 360 -180\n"
   ]
  },
  {
   "cell_type": "code",
   "execution_count": null,
   "id": "2a08eb04",
   "metadata": {},
   "outputs": [],
   "source": []
  }
 ],
 "metadata": {
  "kernelspec": {
   "display_name": "Python 3.9.12 ('car')",
   "language": "python",
   "name": "python3"
  },
  "language_info": {
   "codemirror_mode": {
    "name": "ipython",
    "version": 3
   },
   "file_extension": ".py",
   "mimetype": "text/x-python",
   "name": "python",
   "nbconvert_exporter": "python",
   "pygments_lexer": "ipython3",
   "version": "3.7.13"
  },
  "vscode": {
   "interpreter": {
    "hash": "6701c114b22891e219d37e60bbdfb30b64a39fd4ca17dbea99636c4d3438df00"
   }
  }
 },
 "nbformat": 4,
 "nbformat_minor": 5
}
