{
 "cells": [
  {
   "cell_type": "code",
   "execution_count": 1,
   "metadata": {},
   "outputs": [],
   "source": [
    "import pandas as pd \n",
    "import numpy as np \n",
    "import matplotlib.pyplot as plt\n",
    "import sys\n",
    "import os\n",
    "PROJECT_ROOT = os.path.abspath(os.path.join(\n",
    "                  os.path.dirname('utils'), \n",
    "                  os.pardir)\n",
    ")\n",
    "sys.path.append(PROJECT_ROOT)\n",
    "import utils\n",
    "%matplotlib qt"
   ]
  },
  {
   "cell_type": "code",
   "execution_count": 10,
   "metadata": {},
   "outputs": [],
   "source": [
    "\n",
    "\n",
    "\n",
    "\n",
    "def create_map_array(decimal_places = 1, additional_border=100):\n",
    "    '''Creates a map array for the distance map of the street map. \n",
    "    decimal_places: how many decimal places of the original coordinates should be considered\n",
    "    additional_border: how big should the border around the actual map should be\n",
    "    '''\n",
    "    to_array_indices = 10**decimal_places\n",
    "    to_coordinates = 10**-decimal_places\n",
    "    lines, arcs= utils.load_map('road_points_data')\n",
    "    road_points = np.concatenate([lines, arcs])\n",
    "    road_point_indicies = (np.round(road_points,decimal_places)*to_array_indices).astype(int)\n",
    "    x_min_bound = road_point_indicies[:,0].min() - additional_border\n",
    "    y_min_bound = road_point_indicies[:,1].min() - additional_border\n",
    "    x_max_bound = road_point_indicies[:,0].max() + additional_border\n",
    "    y_max_bound = road_point_indicies[:,1].max() + additional_border\n",
    "    size_x = int(x_max_bound - x_min_bound)\n",
    "    size_y = int(y_max_bound - y_min_bound)\n",
    "    map_array = np.zeros((y_max_bound + (0 - y_min_bound), x_max_bound + (0 -x_min_bound)))\n",
    "    \n",
    "    return map_array, (x_min_bound, x_max_bound), (y_min_bound,y_max_bound), (size_x, size_y)"
   ]
  },
  {
   "cell_type": "code",
   "execution_count": 28,
   "metadata": {},
   "outputs": [],
   "source": [
    "def convert_coord_zero(point):\n",
    "    '''Converts a coordinate from ingame coodrinates to map coordinates'''\n",
    "    return point + np.array([0-(x_min_bound + additional_border), 0-(y_min_bound+additional_border)]) + np.array([additional_border/2, additional_border/2])"
   ]
  },
  {
   "cell_type": "code",
   "execution_count": 31,
   "metadata": {},
   "outputs": [
    {
     "name": "stdout",
     "output_type": "stream",
     "text": [
      "Index out of bounce [2222. 1504.]\n"
     ]
    }
   ],
   "source": [
    "converted_points = []\n",
    "for p in road_point_indicies: \n",
    "    try: \n",
    "        converted_point = convert_coord_zero(p)\n",
    "        map_array[converted_point[1], converted_point[0]] = 1\n",
    "        converted_points.append(converted_point)\n",
    "    except: \n",
    "        print(\"Index out of bounce \" + str(converted_point))\n",
    "        break\n",
    "converted_points = np.array(converted_points)"
   ]
  },
  {
   "cell_type": "code",
   "execution_count": 30,
   "metadata": {},
   "outputs": [
    {
     "data": {
      "text/plain": [
       "<matplotlib.image.AxesImage at 0x21e64a38e20>"
      ]
     },
     "execution_count": 30,
     "metadata": {},
     "output_type": "execute_result"
    }
   ],
   "source": [
    "plt.imshow(map_array, cmap='gray')"
   ]
  },
  {
   "cell_type": "code",
   "execution_count": 19,
   "metadata": {},
   "outputs": [],
   "source": [
    "norm = lambda vec: np.sqrt(vec[0]**2 + vec[1]**2)"
   ]
  },
  {
   "cell_type": "code",
   "execution_count": 14,
   "metadata": {},
   "outputs": [],
   "source": [
    "current_point_array = np.array([10,100])\n",
    "substraction_results = current_point_array-converted_points[0:100]\n",
    "distances = np.apply_along_axis(np.linalg.norm, 1, substraction_results)"
   ]
  },
  {
   "cell_type": "code",
   "execution_count": 23,
   "metadata": {},
   "outputs": [],
   "source": [
    "def clamp(n, smallest, largest): \n",
    "    return max(smallest, min(n, largest))\n"
   ]
  },
  {
   "cell_type": "code",
   "execution_count": 33,
   "metadata": {},
   "outputs": [],
   "source": [
    "empty_map_array = np.zeros_like(map_array)\n",
    "smallest = 0\n",
    "largest = np.linalg.norm((np.array([0,0])-np.array(map_array.shape)))\n",
    "for y in range(0,map_array.shape[0]):\n",
    "    for x in range(0,map_array.shape[1]):\n",
    "        current_point = np.array([x,y])\n",
    "        substraction_results = current_point-converted_points[0:100]\n",
    "        distance = clamp(np.apply_along_axis(np.linalg.norm, 1, substraction_results).min(), smallest, largest)\n",
    "        empty_map_array[y,x] = distance\n"
   ]
  },
  {
   "cell_type": "code",
   "execution_count": 35,
   "metadata": {},
   "outputs": [
    {
     "data": {
      "text/plain": [
       "<matplotlib.image.AxesImage at 0x1af57bce220>"
      ]
     },
     "execution_count": 35,
     "metadata": {},
     "output_type": "execute_result"
    }
   ],
   "source": [
    "plt.imshow(empty_map_array, cmap='gray')"
   ]
  },
  {
   "cell_type": "code",
   "execution_count": 31,
   "metadata": {},
   "outputs": [
    {
     "data": {
      "text/plain": [
       "array([[0., 0., 0., ..., 0., 0., 0.],\n",
       "       [0., 0., 0., ..., 0., 0., 0.],\n",
       "       [0., 0., 0., ..., 0., 0., 0.],\n",
       "       ...,\n",
       "       [0., 0., 0., ..., 0., 0., 0.],\n",
       "       [0., 0., 0., ..., 0., 0., 0.],\n",
       "       [0., 0., 0., ..., 0., 0., 0.]])"
      ]
     },
     "execution_count": 31,
     "metadata": {},
     "output_type": "execute_result"
    }
   ],
   "source": [
    "empty_map_array"
   ]
  },
  {
   "cell_type": "code",
   "execution_count": null,
   "metadata": {},
   "outputs": [],
   "source": []
  }
 ],
 "metadata": {
  "interpreter": {
   "hash": "981abfea0e18570999fcb600e9460178291f8a3fb15401c6f1479c763076018b"
  },
  "kernelspec": {
   "display_name": "Python 3.8.13 ('autonomous')",
   "language": "python",
   "name": "python3"
  },
  "language_info": {
   "codemirror_mode": {
    "name": "ipython",
    "version": 3
   },
   "file_extension": ".py",
   "mimetype": "text/x-python",
   "name": "python",
   "nbconvert_exporter": "python",
   "pygments_lexer": "ipython3",
   "version": "3.8.13"
  },
  "orig_nbformat": 4
 },
 "nbformat": 4,
 "nbformat_minor": 2
}
