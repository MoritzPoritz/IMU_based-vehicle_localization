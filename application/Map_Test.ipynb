{
 "cells": [
  {
   "cell_type": "code",
   "execution_count": 46,
   "metadata": {},
   "outputs": [],
   "source": [
    "import pandas as pd \n",
    "import numpy as np \n",
    "import matplotlib.pyplot as plt\n",
    "import sys\n",
    "import os\n",
    "from numba import jit,njit, vectorize, cuda\n",
    "import math\n",
    "\n",
    "from pip import main\n",
    "PROJECT_ROOT = os.path.abspath(os.path.join(\n",
    "                  os.path.dirname('utils'), \n",
    "                  os.pardir)\n",
    ")\n",
    "sys.path.append(PROJECT_ROOT)\n",
    "import utils\n",
    "\n",
    "@cuda.jit(device=True)\n",
    "def find_lowest_distance(substraction_results): \n",
    "    lowest_distance = 10000000\n",
    "    for i in range(len(substraction_results)): \n",
    "        distance = np.sqrt(substraction_results[0]*substraction_results[0] + substraction_results[1]*substraction_results[1])\n",
    "        if distance < lowest_distance: \n",
    "            lowest_distance = distance\n",
    "    return lowest_distance\n",
    "\n",
    "@cuda.jit(device=True)\t\t\t\t\t\t\n",
    "def get_distance_value(current_point, converted_points, substraction_results):\n",
    "    for i in range(len(converted_points)): \n",
    "        substraction_results[i][0] = current_point[0] - converted_points[i][0]\n",
    "        substraction_results[i][1] = current_point[1] - converted_points[i][1]         \n",
    "    min_distance = find_lowest_distance(substraction_results) \n",
    "    if (min_distance == 0): \n",
    "        distance = 1\n",
    "    else:\n",
    "        distance = 1/min_distance\n",
    "    return distance    \n",
    "\n",
    "@cuda.jit\n",
    "def create_distance_map(map_array, distance_map, current_point, converted_points, substraction_results): \n",
    "    x,y = cuda.grid(2)\n",
    "    if (x < map_array.shape[0] and y < map_array.shape[1]):\n",
    "        current_point[0] = x\n",
    "        current_point[1] = y\n",
    "        distance_map[x,y] = 1#get_distance_value(current_point, converted_points, substraction_results)\n",
    "\n",
    "class DistanceMap(): \n",
    "    def __init__(self, decimal_places, additional_border, filename) -> None:\n",
    "        pass\n",
    "        self.decimal_places = decimal_places\n",
    "        self.additional_border = additional_border\n",
    "        self.to_array_indices = 10**decimal_places\n",
    "        self.to_coordinates = 10**-decimal_places\n",
    "        self.lines, self.arcs= utils.load_map(filename)\n",
    "        self.road_points = np.concatenate([self.lines, self.arcs])\n",
    "        self.road_point_indicies = (np.round(self.road_points,decimal_places)*self.to_array_indices).astype(int)\n",
    "        self.x_min_bound = self.road_point_indicies[:,0].min() - additional_border\n",
    "        self.y_min_bound = self.road_point_indicies[:,1].min() - additional_border\n",
    "        self.x_max_bound = self.road_point_indicies[:,0].max() + additional_border\n",
    "        self.y_max_bound = self.road_point_indicies[:,1].max() + additional_border\n",
    "        self.size_x = int(self.x_max_bound - self.x_min_bound)\n",
    "        self.size_y = int(self.y_max_bound - self.y_min_bound)\n",
    "        self.map_array = np.zeros((self.y_max_bound + (0 - self.y_min_bound), self.x_max_bound + (0 -self.x_min_bound)))\n",
    "        #self.map_array = self.map_array[200:300, 200:300]\n",
    "        self.converted_points = []\n",
    "        self.distance_map = np.zeros_like(self.map_array)\n",
    "        self.create()\n",
    "        self.substraction_results = np.zeros_like(self.road_point_indicies.shape, dtype=np.float64)\n",
    "\n",
    "\n",
    "    def create(self): \n",
    "        self.fill_map_with_road_points()\n",
    "        #self.create_distance_map()\n",
    "\n",
    "\n",
    "    def convert_coord_into_image(self, point):\n",
    "        '''Converts a coordinate from map coodrinates to image coordinates'''\n",
    "        return point + np.array([0-(self.x_min_bound ), 0-(self.y_min_bound)])\n",
    "\n",
    "    def convert_image_into_coord(self, point): \n",
    "        '''Converts a coordinate from ingame coodrinates to map coordinates'''\n",
    "        return point - np.array([0-(self.x_min_bound ), 0-(self.y_min_bound)])\n",
    "\n",
    "    def fill_map_with_road_points(self):    \n",
    "        for p in self.road_point_indicies: \n",
    "            converted_point = self.convert_coord_into_image(p)\n",
    "            self.map_array[converted_point[1], converted_point[0]] = 1\n",
    "            self.converted_points.append(converted_point)\n",
    "        self.converted_points = np.array(self.converted_points)\n",
    "        print(\"Converted Points\", self.converted_points.shape)\n",
    "        print(self.map_array.shape)\n",
    "        #self.map_array = self.map_array[200:300, 200:300]\n",
    "\n",
    " \n",
    "\n",
    "       \n",
    "\n",
    "    def show_map(self): \n",
    "        print(\"Show map\")\n",
    "        plt.imshow(self.map_array, cmap='gray')\n",
    "        #plt.imsave('map',self.map_array)\n",
    "        plt.show()\n",
    "    def show_distance_map(self, name): \n",
    "        plt.imsave(PROJECT_ROOT+'\\\\'+name+'.png', self.distance_map, cmap='gray', format=\"png\")\n",
    "        #plt.imshow(self.distance_map, cmap='gray')\n",
    "        #plt.show()\n",
    "\n",
    "\n",
    "\n",
    "def main(): \n",
    "    distance_map = DistanceMap(2, 100, 'road_points_data25_06_22_15_59_09')\n",
    "    distance_map.show_map()\n",
    "    print(\"Finished creating map array\")\n",
    "    threadsperblock = (16,16)\n",
    "    blockspergrid_x = math.ceil(distance_map.distance_map.shape[0] / threadsperblock[0])\n",
    "    blockspergrid_y = math.ceil(distance_map.distance_map.shape[1] / threadsperblock[1])\n",
    "    blockspergrid = (blockspergrid_x, blockspergrid_y)\n",
    "    distance_map.distance_map = create_distance_map[threadsperblock, blockspergrid](distance_map.map_array, distance_map.distance_map, np.array([0,0]))\n",
    "    distance_map.show_distance_map(\"manno\")\n",
    "    print(\"Finished creating distance map\")\n",
    "    #distance_map.show_distance_map(str(distance_map.decimal_places)+'_'+str(distance_map.additional_border))\n",
    "    #plt.imsave(PROJECT_ROOT+'\\\\map.png', np.random.rand(100,100), cmap='gray', format=\"png\")\n",
    "  \n",
    "\n",
    "\n",
    "\n"
   ]
  },
  {
   "cell_type": "code",
   "execution_count": 47,
   "metadata": {},
   "outputs": [
    {
     "name": "stdout",
     "output_type": "stream",
     "text": [
      "Converted Points (2109770, 2)\n",
      "(20490, 22263)\n"
     ]
    }
   ],
   "source": [
    "distance_map = DistanceMap(2, 100, 'road_points_data25_06_22_15_59_09')"
   ]
  },
  {
   "cell_type": "code",
   "execution_count": 48,
   "metadata": {},
   "outputs": [
    {
     "name": "stderr",
     "output_type": "stream",
     "text": [
      "C:\\Users\\Modulo\\Anaconda3\\envs\\autonomous\\lib\\site-packages\\numba\\cuda\\cudadrv\\devicearray.py:885: NumbaPerformanceWarning: \u001b[1mHost array used in CUDA kernel will incur copy overhead to/from device.\u001b[0m\n",
      "  warn(NumbaPerformanceWarning(msg))\n"
     ]
    },
    {
     "ename": "CudaAPIError",
     "evalue": "[1] Call to cuLaunchKernel results in CUDA_ERROR_INVALID_VALUE",
     "output_type": "error",
     "traceback": [
      "\u001b[1;31m---------------------------------------------------------------------------\u001b[0m",
      "\u001b[1;31mCudaAPIError\u001b[0m                              Traceback (most recent call last)",
      "Input \u001b[1;32mIn [48]\u001b[0m, in \u001b[0;36m<cell line: 6>\u001b[1;34m()\u001b[0m\n\u001b[0;32m      4\u001b[0m blockspergrid \u001b[38;5;241m=\u001b[39m (blockspergrid_x, blockspergrid_y)\n\u001b[0;32m      5\u001b[0m                                                                                 \u001b[38;5;66;03m#map_array, distance_map, current_point, converted_points, substraction_results\u001b[39;00m\n\u001b[1;32m----> 6\u001b[0m distance_map\u001b[38;5;241m.\u001b[39mdistance_map \u001b[38;5;241m=\u001b[39m \u001b[43mcreate_distance_map\u001b[49m\u001b[43m[\u001b[49m\u001b[43mthreadsperblock\u001b[49m\u001b[43m,\u001b[49m\u001b[43m \u001b[49m\u001b[43mblockspergrid\u001b[49m\u001b[43m]\u001b[49m\u001b[43m(\u001b[49m\u001b[43mdistance_map\u001b[49m\u001b[38;5;241;43m.\u001b[39;49m\u001b[43mmap_array\u001b[49m\u001b[43m,\u001b[49m\u001b[43m \u001b[49m\u001b[43mdistance_map\u001b[49m\u001b[38;5;241;43m.\u001b[39;49m\u001b[43mdistance_map\u001b[49m\u001b[43m,\u001b[49m\u001b[43m \u001b[49m\u001b[43mnp\u001b[49m\u001b[38;5;241;43m.\u001b[39;49m\u001b[43marray\u001b[49m\u001b[43m(\u001b[49m\u001b[43m[\u001b[49m\u001b[38;5;241;43m0\u001b[39;49m\u001b[43m,\u001b[49m\u001b[38;5;241;43m0\u001b[39;49m\u001b[43m]\u001b[49m\u001b[43m)\u001b[49m\u001b[43m,\u001b[49m\u001b[43m \u001b[49m\u001b[43mdistance_map\u001b[49m\u001b[38;5;241;43m.\u001b[39;49m\u001b[43mconverted_points\u001b[49m\u001b[43m,\u001b[49m\u001b[43m \u001b[49m\u001b[43mdistance_map\u001b[49m\u001b[38;5;241;43m.\u001b[39;49m\u001b[43msubstraction_results\u001b[49m\u001b[43m)\u001b[49m\n",
      "File \u001b[1;32m~\\Anaconda3\\envs\\autonomous\\lib\\site-packages\\numba\\cuda\\compiler.py:729\u001b[0m, in \u001b[0;36m_KernelConfiguration.__call__\u001b[1;34m(self, *args)\u001b[0m\n\u001b[0;32m    728\u001b[0m \u001b[38;5;28;01mdef\u001b[39;00m \u001b[38;5;21m__call__\u001b[39m(\u001b[38;5;28mself\u001b[39m, \u001b[38;5;241m*\u001b[39margs):\n\u001b[1;32m--> 729\u001b[0m     \u001b[38;5;28;01mreturn\u001b[39;00m \u001b[38;5;28;43mself\u001b[39;49m\u001b[38;5;241;43m.\u001b[39;49m\u001b[43mdispatcher\u001b[49m\u001b[38;5;241;43m.\u001b[39;49m\u001b[43mcall\u001b[49m\u001b[43m(\u001b[49m\u001b[43margs\u001b[49m\u001b[43m,\u001b[49m\u001b[43m \u001b[49m\u001b[38;5;28;43mself\u001b[39;49m\u001b[38;5;241;43m.\u001b[39;49m\u001b[43mgriddim\u001b[49m\u001b[43m,\u001b[49m\u001b[43m \u001b[49m\u001b[38;5;28;43mself\u001b[39;49m\u001b[38;5;241;43m.\u001b[39;49m\u001b[43mblockdim\u001b[49m\u001b[43m,\u001b[49m\n\u001b[0;32m    730\u001b[0m \u001b[43m                                \u001b[49m\u001b[38;5;28;43mself\u001b[39;49m\u001b[38;5;241;43m.\u001b[39;49m\u001b[43mstream\u001b[49m\u001b[43m,\u001b[49m\u001b[43m \u001b[49m\u001b[38;5;28;43mself\u001b[39;49m\u001b[38;5;241;43m.\u001b[39;49m\u001b[43msharedmem\u001b[49m\u001b[43m)\u001b[49m\n",
      "File \u001b[1;32m~\\Anaconda3\\envs\\autonomous\\lib\\site-packages\\numba\\cuda\\compiler.py:919\u001b[0m, in \u001b[0;36mDispatcher.call\u001b[1;34m(self, args, griddim, blockdim, stream, sharedmem)\u001b[0m\n\u001b[0;32m    916\u001b[0m \u001b[38;5;28;01melse\u001b[39;00m:\n\u001b[0;32m    917\u001b[0m     kernel \u001b[38;5;241m=\u001b[39m _dispatcher\u001b[38;5;241m.\u001b[39mDispatcher\u001b[38;5;241m.\u001b[39m_cuda_call(\u001b[38;5;28mself\u001b[39m, \u001b[38;5;241m*\u001b[39margs)\n\u001b[1;32m--> 919\u001b[0m \u001b[43mkernel\u001b[49m\u001b[38;5;241;43m.\u001b[39;49m\u001b[43mlaunch\u001b[49m\u001b[43m(\u001b[49m\u001b[43margs\u001b[49m\u001b[43m,\u001b[49m\u001b[43m \u001b[49m\u001b[43mgriddim\u001b[49m\u001b[43m,\u001b[49m\u001b[43m \u001b[49m\u001b[43mblockdim\u001b[49m\u001b[43m,\u001b[49m\u001b[43m \u001b[49m\u001b[43mstream\u001b[49m\u001b[43m,\u001b[49m\u001b[43m \u001b[49m\u001b[43msharedmem\u001b[49m\u001b[43m)\u001b[49m\n",
      "File \u001b[1;32m~\\Anaconda3\\envs\\autonomous\\lib\\site-packages\\numba\\cuda\\compiler.py:576\u001b[0m, in \u001b[0;36m_Kernel.launch\u001b[1;34m(self, args, griddim, blockdim, stream, sharedmem)\u001b[0m\n\u001b[0;32m    573\u001b[0m stream_handle \u001b[38;5;241m=\u001b[39m stream \u001b[38;5;129;01mand\u001b[39;00m stream\u001b[38;5;241m.\u001b[39mhandle \u001b[38;5;129;01mor\u001b[39;00m zero_stream\n\u001b[0;32m    575\u001b[0m \u001b[38;5;66;03m# Invoke kernel\u001b[39;00m\n\u001b[1;32m--> 576\u001b[0m \u001b[43mdriver\u001b[49m\u001b[38;5;241;43m.\u001b[39;49m\u001b[43mlaunch_kernel\u001b[49m\u001b[43m(\u001b[49m\u001b[43mcufunc\u001b[49m\u001b[38;5;241;43m.\u001b[39;49m\u001b[43mhandle\u001b[49m\u001b[43m,\u001b[49m\n\u001b[0;32m    577\u001b[0m \u001b[43m                     \u001b[49m\u001b[38;5;241;43m*\u001b[39;49m\u001b[43mgriddim\u001b[49m\u001b[43m,\u001b[49m\n\u001b[0;32m    578\u001b[0m \u001b[43m                     \u001b[49m\u001b[38;5;241;43m*\u001b[39;49m\u001b[43mblockdim\u001b[49m\u001b[43m,\u001b[49m\n\u001b[0;32m    579\u001b[0m \u001b[43m                     \u001b[49m\u001b[43msharedmem\u001b[49m\u001b[43m,\u001b[49m\n\u001b[0;32m    580\u001b[0m \u001b[43m                     \u001b[49m\u001b[43mstream_handle\u001b[49m\u001b[43m,\u001b[49m\n\u001b[0;32m    581\u001b[0m \u001b[43m                     \u001b[49m\u001b[43mkernelargs\u001b[49m\u001b[43m,\u001b[49m\n\u001b[0;32m    582\u001b[0m \u001b[43m                     \u001b[49m\u001b[43mcooperative\u001b[49m\u001b[38;5;241;43m=\u001b[39;49m\u001b[38;5;28;43mself\u001b[39;49m\u001b[38;5;241;43m.\u001b[39;49m\u001b[43mcooperative\u001b[49m\u001b[43m)\u001b[49m\n\u001b[0;32m    584\u001b[0m \u001b[38;5;28;01mif\u001b[39;00m \u001b[38;5;28mself\u001b[39m\u001b[38;5;241m.\u001b[39mdebug:\n\u001b[0;32m    585\u001b[0m     driver\u001b[38;5;241m.\u001b[39mdevice_to_host(ctypes\u001b[38;5;241m.\u001b[39maddressof(excval), excmem, excsz)\n",
      "File \u001b[1;32m~\\Anaconda3\\envs\\autonomous\\lib\\site-packages\\numba\\cuda\\cudadrv\\driver.py:2550\u001b[0m, in \u001b[0;36mlaunch_kernel\u001b[1;34m(cufunc_handle, gx, gy, gz, bx, by, bz, sharedmem, hstream, args, cooperative)\u001b[0m\n\u001b[0;32m   2543\u001b[0m     driver\u001b[38;5;241m.\u001b[39mcuLaunchCooperativeKernel(cufunc_handle,\n\u001b[0;32m   2544\u001b[0m                                      gx, gy, gz,\n\u001b[0;32m   2545\u001b[0m                                      bx, by, bz,\n\u001b[0;32m   2546\u001b[0m                                      sharedmem,\n\u001b[0;32m   2547\u001b[0m                                      hstream,\n\u001b[0;32m   2548\u001b[0m                                      params_for_launch)\n\u001b[0;32m   2549\u001b[0m \u001b[38;5;28;01melse\u001b[39;00m:\n\u001b[1;32m-> 2550\u001b[0m     \u001b[43mdriver\u001b[49m\u001b[38;5;241;43m.\u001b[39;49m\u001b[43mcuLaunchKernel\u001b[49m\u001b[43m(\u001b[49m\u001b[43mcufunc_handle\u001b[49m\u001b[43m,\u001b[49m\n\u001b[0;32m   2551\u001b[0m \u001b[43m                          \u001b[49m\u001b[43mgx\u001b[49m\u001b[43m,\u001b[49m\u001b[43m \u001b[49m\u001b[43mgy\u001b[49m\u001b[43m,\u001b[49m\u001b[43m \u001b[49m\u001b[43mgz\u001b[49m\u001b[43m,\u001b[49m\n\u001b[0;32m   2552\u001b[0m \u001b[43m                          \u001b[49m\u001b[43mbx\u001b[49m\u001b[43m,\u001b[49m\u001b[43m \u001b[49m\u001b[43mby\u001b[49m\u001b[43m,\u001b[49m\u001b[43m \u001b[49m\u001b[43mbz\u001b[49m\u001b[43m,\u001b[49m\n\u001b[0;32m   2553\u001b[0m \u001b[43m                          \u001b[49m\u001b[43msharedmem\u001b[49m\u001b[43m,\u001b[49m\n\u001b[0;32m   2554\u001b[0m \u001b[43m                          \u001b[49m\u001b[43mhstream\u001b[49m\u001b[43m,\u001b[49m\n\u001b[0;32m   2555\u001b[0m \u001b[43m                          \u001b[49m\u001b[43mparams_for_launch\u001b[49m\u001b[43m,\u001b[49m\n\u001b[0;32m   2556\u001b[0m \u001b[43m                          \u001b[49m\u001b[43mextra\u001b[49m\u001b[43m)\u001b[49m\n",
      "File \u001b[1;32m~\\Anaconda3\\envs\\autonomous\\lib\\site-packages\\numba\\cuda\\cudadrv\\driver.py:319\u001b[0m, in \u001b[0;36mDriver._ctypes_wrap_fn.<locals>.safe_cuda_api_call\u001b[1;34m(*args)\u001b[0m\n\u001b[0;32m    317\u001b[0m _logger\u001b[38;5;241m.\u001b[39mdebug(\u001b[38;5;124m'\u001b[39m\u001b[38;5;124mcall driver api: \u001b[39m\u001b[38;5;132;01m%s\u001b[39;00m\u001b[38;5;124m'\u001b[39m, libfn\u001b[38;5;241m.\u001b[39m\u001b[38;5;18m__name__\u001b[39m)\n\u001b[0;32m    318\u001b[0m retcode \u001b[38;5;241m=\u001b[39m libfn(\u001b[38;5;241m*\u001b[39margs)\n\u001b[1;32m--> 319\u001b[0m \u001b[38;5;28;43mself\u001b[39;49m\u001b[38;5;241;43m.\u001b[39;49m\u001b[43m_check_ctypes_error\u001b[49m\u001b[43m(\u001b[49m\u001b[43mfname\u001b[49m\u001b[43m,\u001b[49m\u001b[43m \u001b[49m\u001b[43mretcode\u001b[49m\u001b[43m)\u001b[49m\n",
      "File \u001b[1;32m~\\Anaconda3\\envs\\autonomous\\lib\\site-packages\\numba\\cuda\\cudadrv\\driver.py:387\u001b[0m, in \u001b[0;36mDriver._check_ctypes_error\u001b[1;34m(self, fname, retcode)\u001b[0m\n\u001b[0;32m    385\u001b[0m \u001b[38;5;28;01mif\u001b[39;00m retcode \u001b[38;5;241m==\u001b[39m enums\u001b[38;5;241m.\u001b[39mCUDA_ERROR_NOT_INITIALIZED:\n\u001b[0;32m    386\u001b[0m     \u001b[38;5;28mself\u001b[39m\u001b[38;5;241m.\u001b[39m_detect_fork()\n\u001b[1;32m--> 387\u001b[0m \u001b[38;5;28;01mraise\u001b[39;00m CudaAPIError(retcode, msg)\n",
      "\u001b[1;31mCudaAPIError\u001b[0m: [1] Call to cuLaunchKernel results in CUDA_ERROR_INVALID_VALUE"
     ]
    }
   ],
   "source": [
    "threadsperblock = (16,16)\n",
    "blockspergrid_x = math.ceil(distance_map.distance_map.shape[0] / threadsperblock[0])\n",
    "blockspergrid_y = math.ceil(distance_map.distance_map.shape[1] / threadsperblock[1])\n",
    "blockspergrid = (blockspergrid_x, blockspergrid_y)\n",
    "                                                                                #map_array, distance_map, current_point, converted_points, substraction_results\n",
    "distance_map.distance_map = create_distance_map[threadsperblock, blockspergrid](distance_map.map_array, distance_map.distance_map, np.array([0,0]), distance_map.converted_points, distance_map.substraction_results)"
   ]
  },
  {
   "cell_type": "code",
   "execution_count": null,
   "metadata": {},
   "outputs": [],
   "source": []
  }
 ],
 "metadata": {
  "interpreter": {
   "hash": "981abfea0e18570999fcb600e9460178291f8a3fb15401c6f1479c763076018b"
  },
  "kernelspec": {
   "display_name": "Python 3 (ipykernel)",
   "language": "python",
   "name": "python3"
  },
  "language_info": {
   "codemirror_mode": {
    "name": "ipython",
    "version": 3
   },
   "file_extension": ".py",
   "mimetype": "text/x-python",
   "name": "python",
   "nbconvert_exporter": "python",
   "pygments_lexer": "ipython3",
   "version": "3.8.13"
  }
 },
 "nbformat": 4,
 "nbformat_minor": 2
}
