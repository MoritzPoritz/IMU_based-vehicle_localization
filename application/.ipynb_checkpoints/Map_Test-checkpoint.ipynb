{
 "cells": [
  {
   "cell_type": "code",
   "execution_count": 8,
   "metadata": {},
   "outputs": [],
   "source": [
    "import pandas as pd \n",
    "import numpy as np \n",
    "import math\n",
    "import matplotlib.pyplot as plt\n",
    "import sys\n",
    "import os\n",
    "from numba import jit,njit, vectorize, cuda\n",
    "import time\n",
    "\n",
    "\n",
    "from pip import main\n",
    "PROJECT_ROOT = os.path.abspath(os.path.join(\n",
    "                  os.path.dirname('utils'), \n",
    "                  os.pardir)\n",
    ")\n",
    "sys.path.append(PROJECT_ROOT)\n",
    "import utils\n",
    "\n",
    "filename = '../data/road_points_data25_06_22_15_59_09'\n",
    "decimal_places = 2\n",
    "additional_border = 100\n",
    "to_array_indices = 10**decimal_places\n",
    "to_coordinates = 10**-decimal_places\n",
    "lines, arcs= utils.load_map(filename)\n",
    "road_points = np.concatenate([lines, arcs])\n",
    "\n",
    "road_point_indicies = (np.round(road_points,decimal_places)*to_array_indices).astype(np.intc)\n",
    "#road_point_indicies = np.random.randint(0,20,size=(100,2))\n",
    "x_min_bound = road_point_indicies[:,0].min() - additional_border\n",
    "y_min_bound = road_point_indicies[:,1].min() - additional_border\n",
    "x_max_bound = road_point_indicies[:,0].max() + additional_border\n",
    "y_max_bound = road_point_indicies[:,1].max() + additional_border\n",
    "size_x = int(x_max_bound - x_min_bound)\n",
    "size_y = int(y_max_bound - y_min_bound)\n",
    "#distance_map = np.zeros_like(map_array)\n",
    "map_array = np.zeros((y_max_bound + (0 - y_min_bound), x_max_bound + (0 -x_min_bound)), dtype=np.float64)\n",
    "converted_points = np.zeros_like(road_point_indicies,dtype=np.intc)\n",
    "offset_array = np.array([0-(x_min_bound ), 0-(y_min_bound)]) # needed for translation points into image coord system from world\n"
   ]
  },
  {
   "cell_type": "code",
   "execution_count": 9,
   "metadata": {},
   "outputs": [
    {
     "name": "stdout",
     "output_type": "stream",
     "text": [
      "(2109770, 2) (20490, 22263)\n"
     ]
    }
   ],
   "source": [
    "print(road_point_indicies.shape, map_array.shape)"
   ]
  },
  {
   "cell_type": "code",
   "execution_count": 10,
   "metadata": {},
   "outputs": [],
   "source": [
    "@njit(fastmath=True)\n",
    "def convert_coord_into_image(point):\n",
    "    '''Converts a coordinate from map coodrinates to image coordinates'''\n",
    "    return point + np.array([0-(x_min_bound ), 0-(y_min_bound)])\n",
    "@njit(fastmath=True)    \n",
    "def convert_image_into_coord(point): \n",
    "    '''Converts a coordinate from ingame coodrinates to map coordinates'''\n",
    "    return point - np.array([0-(x_min_bound ), 0-(y_min_bound)])\n"
   ]
  },
  {
   "cell_type": "code",
   "execution_count": 11,
   "metadata": {},
   "outputs": [],
   "source": [
    "@njit(fastmath=True)\n",
    "def fill_map_with_road_points(road_point_indicies, map_array, converted_points):  \n",
    "    \n",
    "    for i in range(len(road_point_indicies)): \n",
    "        converted_point = convert_coord_into_image(road_point_indicies[i])\n",
    "        map_array[converted_point[1],converted_point[0]] = 1\n",
    "        np.append(converted_points, converted_point)"
   ]
  },
  {
   "cell_type": "code",
   "execution_count": null,
   "metadata": {},
   "outputs": [],
   "source": [
    "%time fill_map_with_road_points(road_point_indicies, map_array, converted_points)"
   ]
  },
  {
   "cell_type": "code",
   "execution_count": 6,
   "metadata": {},
   "outputs": [],
   "source": [
    "   \n",
    "@njit\n",
    "def find_lowest_distance(current_point, converted_points, distance):\n",
    "    substraction_results = current_point-converted_points\n",
    "    min_distance = np.apply_along_axis(np.linalg.norm, 1, substraction_results).min() \n",
    "    if (min_distance == 0): \n",
    "        distance = 1\n",
    "    else:\n",
    "        distance = 1/min_distance\n",
    "    return distance    \n",
    "        \n",
    "def create_distance_map(): \n",
    "    smallest = 0\n",
    "    largest = np.linalg.norm((np.array([0,0])-np.array(map_array.shape)))\n",
    "    for y in range(0,map_array.shape[0]):\n",
    "        for x in range(0,map_array.shape[1]):\n",
    "            current_point = np.array([x,y])\n",
    "            distance_map[y,x] = find_lowest_distance(current_point)\n",
    "\n",
    "def show_map(): \n",
    "    print(\"Show map\")\n",
    "    plt.imshow(map_array, cmap='gray')\n",
    "    #plt.imsave('map',map_array)\n",
    "    plt.show()\n",
    "\n",
    "def show_distance_map(name): \n",
    "    plt.imsave(PROJECT_ROOT+'\\\\'+name+'.png', distance_map, cmap='gray', format=\"png\")\n"
   ]
  },
  {
   "cell_type": "code",
   "execution_count": 22,
   "metadata": {},
   "outputs": [],
   "source": [
    "array_filled = np.zeros((20000,20000), dtype=np.float32)\n",
    "@cuda.jit\n",
    "def test_cuda_function(array_filled): \n",
    "    x,y = cuda.grid(2)\n",
    "    if x < array_filled.shape[0] and y < array_filled.shape[1]: \n",
    "        array_filled[x,y] = 1\n",
    "\n",
    "def test_cuda_function2(array_filled): \n",
    "    for x in range(array_filled.shape[0]): \n",
    "        for y in range(array_filled.shape[1]):\n",
    "            array_filled[x,y] = 1"
   ]
  },
  {
   "cell_type": "code",
   "execution_count": 24,
   "metadata": {},
   "outputs": [
    {
     "name": "stdout",
     "output_type": "stream",
     "text": [
      "CPU times: total: 609 ms\n",
      "Wall time: 642 ms\n"
     ]
    }
   ],
   "source": [
    "threadsperblock = (16,16)\n",
    "blockspergrid_x = math.ceil(array_filled.shape[0] / threadsperblock[0])\n",
    "blockspergrid_y = math.ceil(array_filled.shape[1] / threadsperblock[1])\n",
    "blockspergrid = (blockspergrid_x, blockspergrid_y)\n",
    "%time test_cuda_function[blockspergrid, threadsperblock](array_filled)"
   ]
  },
  {
   "cell_type": "code",
   "execution_count": null,
   "metadata": {},
   "outputs": [],
   "source": [
    "%time test_cuda_function2(array_filled)"
   ]
  },
  {
   "cell_type": "code",
   "execution_count": null,
   "metadata": {},
   "outputs": [],
   "source": []
  }
 ],
 "metadata": {
  "interpreter": {
   "hash": "981abfea0e18570999fcb600e9460178291f8a3fb15401c6f1479c763076018b"
  },
  "kernelspec": {
   "display_name": "Python 3 (ipykernel)",
   "language": "python",
   "name": "python3"
  },
  "language_info": {
   "codemirror_mode": {
    "name": "ipython",
    "version": 3
   },
   "file_extension": ".py",
   "mimetype": "text/x-python",
   "name": "python",
   "nbconvert_exporter": "python",
   "pygments_lexer": "ipython3",
   "version": "3.8.13"
  }
 },
 "nbformat": 4,
 "nbformat_minor": 2
}
