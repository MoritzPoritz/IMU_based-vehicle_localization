{
 "cells": [
  {
   "cell_type": "code",
   "execution_count": 20,
   "id": "f84f87e8",
   "metadata": {},
   "outputs": [],
   "source": [
    "import numpy as np\n",
    "import cv2 as cv\n",
    "import matplotlib.pyplot as plt\n",
    "import sys\n",
    "import os\n",
    "%matplotlib qt"
   ]
  },
  {
   "cell_type": "code",
   "execution_count": 21,
   "id": "ce6ad96b",
   "metadata": {},
   "outputs": [],
   "source": [
    "PROJECT_ROOT = os.path.abspath(os.path.join(\n",
    "                  os.path.dirname('utils'), \n",
    "                  os.pardir)\n",
    ")\n",
    "sys.path.append(PROJECT_ROOT)"
   ]
  },
  {
   "cell_type": "code",
   "execution_count": 22,
   "id": "7cadc046",
   "metadata": {},
   "outputs": [],
   "source": [
    "from filterscripts import distance_map"
   ]
  },
  {
   "cell_type": "code",
   "execution_count": 23,
   "id": "299f2bd2",
   "metadata": {},
   "outputs": [
    {
     "name": "stdout",
     "output_type": "stream",
     "text": [
      "Converted Points (135, 2)\n",
      "(2195, 2340)\n"
     ]
    }
   ],
   "source": [
    "dm = distance_map.DistanceMap(1, 100, 'road_points_data_test')"
   ]
  },
  {
   "cell_type": "code",
   "execution_count": 24,
   "id": "70d68ff1",
   "metadata": {},
   "outputs": [
    {
     "name": "stdout",
     "output_type": "stream",
     "text": [
      "Show map\n"
     ]
    }
   ],
   "source": [
    "dm.save_distance_map()\n",
    "dm.save_map()"
   ]
  },
  {
   "cell_type": "code",
   "execution_count": 25,
   "id": "6ee11e77",
   "metadata": {},
   "outputs": [],
   "source": [
    "from numpy.random import uniform\n",
    "\n",
    "def create_uniform_particles(x_range, y_range, x_dot_range, y_dot_range, theta_range, delta_range,N):\n",
    "    particles = np.empty((N, 6))\n",
    "    particles[:, 0] = uniform(x_range[0], x_range[1], size=N)\n",
    "    particles[:, 1] = uniform(y_range[0], y_range[1], size=N)\n",
    "    particles[:, 2] = uniform(x_dot_range[0], x_dot_range[1], size=N)\n",
    "    particles[:, 3] = uniform(y_dot_range[0], y_dot_range[1], size=N)\n",
    "    particles[:, 4] = uniform(theta_range[0], theta_range[1], size=N)\n",
    "    particles[:, 5] = uniform(delta_range[0], delta_range[1], size=N)\n",
    "    particles[:, 4] %= 2 * np.pi\n",
    "    particles[:, 5] %= 2 * np.pi\n",
    "    return particles"
   ]
  },
  {
   "cell_type": "markdown",
   "id": "e1601721",
   "metadata": {},
   "source": [
    "## Filter-Notizen\n",
    "- Wenn der Partikel die Map verlässt, wird er automatisch gelöscht"
   ]
  },
  {
   "cell_type": "code",
   "execution_count": 51,
   "id": "617f88d2",
   "metadata": {},
   "outputs": [],
   "source": [
    "def predict(particles, u, std, dt, L): \n",
    "    N = len(particles) \n",
    "    # Needs noise: not in a for loop\n",
    "    for i in range(len(particles)): \n",
    "        particles[i] = F(particles[i], u, dt, L)\n",
    "\n",
    "def update(particles, weights, distance_map):\n",
    "    for i, particle in enumerate(particles):\n",
    "        pi = dm.coord_to_image(particle[0:1])\n",
    "        \n",
    "        if (pi[0] > dm.distance_map.shape[1] or pi[0] < 0 or pi[1] > dm.distance_map.shape[1] or pi[1] < 0): \n",
    "            weights = np.delete(weights, i)\n",
    "        else:    \n",
    "            weights[i] = dm.distance_map[pi[1], pi[0]] # y,x\n",
    "\n",
    "        \n",
    "    weights += 1.e-300\n",
    "    weights /= sum(weights) # normalize\n",
    "\n",
    "    \n",
    "def estimate(particles, weight): \n",
    "    pos = particles[:,0:2]\n",
    "    mean = np.average(pos, weights=weights, axis=0)\n",
    "    var  = np.average((pos - mean)**2, weights=weights, axis=0)\n",
    "    return mean, var\n",
    "# z = x,y,x_dot, y_dot, theta, delta\n",
    "# u = acc_x, acc_y, steering \n",
    "def F(z, u, step, L): \n",
    "\n",
    "    x_dot_next = z[2] + (u[0] * step)\n",
    "    y_dot_next = z[3] + (u[1] * step)\n",
    "    \n",
    "    velocity = np.linalg.norm((z[2], z[3]))\n",
    "    x_next = z[0] + (velocity*np.cos(z[4] + z[5]) * step)\n",
    "    y_next = z[1] + (velocity*np.sin(z[4] + z[5]) * step)\n",
    "    theta_next = z[4] + (((velocity*np.sin(z[5])*np.tan(z[5]))/L) * step)\n",
    "    delta_next = z[5] + (u[2] * step)\n",
    "    \n",
    "    return np.array([x_next, y_next,x_dot_next, y_dot_next, theta_next, delta_next], dtype=object) \n",
    "    "
   ]
  },
  {
   "cell_type": "code",
   "execution_count": 48,
   "id": "95c2ff83",
   "metadata": {},
   "outputs": [],
   "source": [
    "x_min = dm.road_points[:,0].min()\n",
    "x_max = dm.road_points[:,0].max()\n",
    "\n",
    "y_min = dm.road_points[:,1].min()\n",
    "y_max = dm.road_points[:,1].max()\n",
    "\n",
    "\n",
    "x_range = [x_min, x_max]\n",
    "y_range = [y_min, y_max]\n",
    "x_dot_range = [0, 10]\n",
    "y_dot_range = [0, 10]\n",
    "theta_range = [0,2*np.pi]\n",
    "delta_range = [-np.pi/2, np.pi/2]\n",
    "particles = create_uniform_particles(x_range, y_range, x_dot_range, y_dot_range, theta_range, delta_range, 10)\n",
    "weights = np.full((particles.shape[0],), 1/particles.shape[0])"
   ]
  },
  {
   "cell_type": "markdown",
   "id": "0cc99a2e",
   "metadata": {},
   "source": [
    "## First test"
   ]
  },
  {
   "cell_type": "code",
   "execution_count": 49,
   "id": "05234004",
   "metadata": {},
   "outputs": [],
   "source": [
    "u_left = np.full((300,3), np.array([2,2,np.pi/10]))\n",
    "u_right = np.full((300,3), np.array([2,2,-np.pi/10]))\n",
    "us = np.concatenate((u_left, u_right))"
   ]
  },
  {
   "cell_type": "code",
   "execution_count": 64,
   "id": "ad7d7a1a",
   "metadata": {},
   "outputs": [
    {
     "name": "stdout",
     "output_type": "stream",
     "text": [
      "Prediction done\n",
      " Particle [1650 1917]\n",
      " Particle [  2 269]\n",
      " Particle [184 451]\n",
      " Particle [1165 1432]\n",
      " Particle [355 622]\n",
      " Particle [1504 1771]\n",
      " Particle [2113 2380]\n"
     ]
    },
    {
     "ename": "IndexError",
     "evalue": "index 2380 is out of bounds for axis 0 with size 2195",
     "output_type": "error",
     "traceback": [
      "\u001b[1;31m---------------------------------------------------------------------------\u001b[0m",
      "\u001b[1;31mIndexError\u001b[0m                                Traceback (most recent call last)",
      "Input \u001b[1;32mIn [64]\u001b[0m, in \u001b[0;36m<cell line: 6>\u001b[1;34m()\u001b[0m\n\u001b[0;32m      7\u001b[0m predict(particles, us[i], \u001b[38;5;241m0.02\u001b[39m, dt, L)\n\u001b[0;32m      8\u001b[0m \u001b[38;5;28mprint\u001b[39m(\u001b[38;5;124m\"\u001b[39m\u001b[38;5;124mPrediction done\u001b[39m\u001b[38;5;124m\"\u001b[39m)\n\u001b[1;32m----> 9\u001b[0m \u001b[43mupdate\u001b[49m\u001b[43m(\u001b[49m\u001b[43mparticles\u001b[49m\u001b[43m,\u001b[49m\u001b[43m \u001b[49m\u001b[43mweights\u001b[49m\u001b[43m,\u001b[49m\u001b[43m \u001b[49m\u001b[43mdm\u001b[49m\u001b[38;5;241;43m.\u001b[39;49m\u001b[43mdistance_map\u001b[49m\u001b[43m)\u001b[49m\n\u001b[0;32m     10\u001b[0m \u001b[38;5;28mprint\u001b[39m(\u001b[38;5;124m\"\u001b[39m\u001b[38;5;124mUpdate done\u001b[39m\u001b[38;5;124m\"\u001b[39m)\n\u001b[0;32m     11\u001b[0m mu, var \u001b[38;5;241m=\u001b[39m estimate(particles,weights)\n",
      "Input \u001b[1;32mIn [51]\u001b[0m, in \u001b[0;36mupdate\u001b[1;34m(particles, weights, distance_map)\u001b[0m\n\u001b[0;32m     12\u001b[0m     \u001b[38;5;28;01mif\u001b[39;00m (pi[\u001b[38;5;241m0\u001b[39m] \u001b[38;5;241m>\u001b[39m dm\u001b[38;5;241m.\u001b[39mdistance_map\u001b[38;5;241m.\u001b[39mshape[\u001b[38;5;241m1\u001b[39m] \u001b[38;5;129;01mor\u001b[39;00m pi[\u001b[38;5;241m0\u001b[39m] \u001b[38;5;241m<\u001b[39m \u001b[38;5;241m0\u001b[39m \u001b[38;5;129;01mor\u001b[39;00m pi[\u001b[38;5;241m1\u001b[39m] \u001b[38;5;241m>\u001b[39m dm\u001b[38;5;241m.\u001b[39mdistance_map\u001b[38;5;241m.\u001b[39mshape[\u001b[38;5;241m1\u001b[39m] \u001b[38;5;129;01mor\u001b[39;00m pi[\u001b[38;5;241m1\u001b[39m] \u001b[38;5;241m<\u001b[39m \u001b[38;5;241m0\u001b[39m): \n\u001b[0;32m     13\u001b[0m         weights \u001b[38;5;241m=\u001b[39m np\u001b[38;5;241m.\u001b[39mdelete(weights, i)\n\u001b[1;32m---> 14\u001b[0m         weights[i] \u001b[38;5;241m=\u001b[39m \u001b[43mdm\u001b[49m\u001b[38;5;241;43m.\u001b[39;49m\u001b[43mdistance_map\u001b[49m\u001b[43m[\u001b[49m\u001b[43mpi\u001b[49m\u001b[43m[\u001b[49m\u001b[38;5;241;43m1\u001b[39;49m\u001b[43m]\u001b[49m\u001b[43m,\u001b[49m\u001b[43m \u001b[49m\u001b[43mpi\u001b[49m\u001b[43m[\u001b[49m\u001b[38;5;241;43m0\u001b[39;49m\u001b[43m]\u001b[49m\u001b[43m]\u001b[49m \u001b[38;5;66;03m# y,x\u001b[39;00m\n\u001b[0;32m     17\u001b[0m weights \u001b[38;5;241m+\u001b[39m\u001b[38;5;241m=\u001b[39m \u001b[38;5;241m1.e-300\u001b[39m\n\u001b[0;32m     18\u001b[0m weights \u001b[38;5;241m/\u001b[39m\u001b[38;5;241m=\u001b[39m \u001b[38;5;28msum\u001b[39m(weights)\n",
      "\u001b[1;31mIndexError\u001b[0m: index 2380 is out of bounds for axis 0 with size 2195"
     ]
    }
   ],
   "source": [
    "seconds = 60\n",
    "dt = 0.1\n",
    "Ts=[]\n",
    "xs = []\n",
    "L = 1.8\n",
    "for i,t in enumerate(np.arange(0, 60*dt, dt)): \n",
    "    predict(particles, us[i], 0.02, dt, L)\n",
    "    print(\"Prediction done\")\n",
    "    update(particles, weights, dm.distance_map)\n",
    "    print(\"Update done\")\n",
    "    mu, var = estimate(particles,weights)\n",
    "    print(\"Estimation done\")\n",
    "    xs.append(mu)\n",
    "xs = np.array(xs)"
   ]
  },
  {
   "cell_type": "code",
   "execution_count": 61,
   "id": "be305fa9",
   "metadata": {},
   "outputs": [
    {
     "data": {
      "text/plain": [
       "[array([-22.3006818 , -39.03570905]),\n",
       " array([-22.58830871, -39.6989812 ]),\n",
       " array([-22.41622642, -39.74268056]),\n",
       " array([-21.87322664, -39.61406886]),\n",
       " array([-22.03138301, -39.36192584]),\n",
       " array([-22.7741631, -39.1908111]),\n",
       " array([-23.10762381, -38.23301761]),\n",
       " array([-24.45615692, -37.91059515]),\n",
       " array([-24.21919699, -37.59248351]),\n",
       " array([-24.26518682, -37.94434891]),\n",
       " array([-23.88470675, -37.28225842]),\n",
       " array([-22.86508449, -36.6880048 ]),\n",
       " array([-22.90593394, -36.46670793]),\n",
       " array([-22.30815502, -36.2737017 ]),\n",
       " array([-21.48146713, -36.1944108 ]),\n",
       " array([-20.93272855, -37.02900753]),\n",
       " array([-20.7137699, -36.4634572]),\n",
       " array([-20.50124278, -36.82908208]),\n",
       " array([-19.25790521, -36.6109234 ]),\n",
       " array([-18.47472565, -36.81365677])]"
      ]
     },
     "execution_count": 61,
     "metadata": {},
     "output_type": "execute_result"
    }
   ],
   "source": [
    "xs"
   ]
  },
  {
   "cell_type": "raw",
   "id": "e51880f1",
   "metadata": {},
   "source": [
    "## Plot particles"
   ]
  },
  {
   "cell_type": "code",
   "execution_count": 62,
   "id": "56c3277a",
   "metadata": {},
   "outputs": [],
   "source": [
    "converted_particles = []\n",
    "for rp in particles: \n",
    "    converted_particles.append(dm.coord_to_image(np.array([rp[0], rp[1]])))\n",
    "converted_particles = np.array(converted_particles)"
   ]
  },
  {
   "cell_type": "code",
   "execution_count": 63,
   "id": "3f709942",
   "metadata": {},
   "outputs": [
    {
     "ename": "TypeError",
     "evalue": "list indices must be integers or slices, not tuple",
     "output_type": "error",
     "traceback": [
      "\u001b[1;31m---------------------------------------------------------------------------\u001b[0m",
      "\u001b[1;31mTypeError\u001b[0m                                 Traceback (most recent call last)",
      "Input \u001b[1;32mIn [63]\u001b[0m, in \u001b[0;36m<cell line: 4>\u001b[1;34m()\u001b[0m\n\u001b[0;32m      1\u001b[0m plt\u001b[38;5;241m.\u001b[39mimshow(dm\u001b[38;5;241m.\u001b[39mdistance_map, cmap\u001b[38;5;241m=\u001b[39m\u001b[38;5;124m\"\u001b[39m\u001b[38;5;124mgray\u001b[39m\u001b[38;5;124m\"\u001b[39m)\n\u001b[0;32m      3\u001b[0m \u001b[38;5;66;03m#plt.scatter(converted_particles[:,0], converted_particles[:,1])\u001b[39;00m\n\u001b[1;32m----> 4\u001b[0m plt\u001b[38;5;241m.\u001b[39mplot(\u001b[43mxs\u001b[49m\u001b[43m[\u001b[49m\u001b[43m:\u001b[49m\u001b[43m,\u001b[49m\u001b[38;5;241;43m0\u001b[39;49m\u001b[43m]\u001b[49m, xs[:,\u001b[38;5;241m1\u001b[39m])\n\u001b[0;32m      5\u001b[0m plt\u001b[38;5;241m.\u001b[39mshow()\n",
      "\u001b[1;31mTypeError\u001b[0m: list indices must be integers or slices, not tuple"
     ]
    }
   ],
   "source": [
    "plt.imshow(dm.distance_map, cmap=\"gray\")\n",
    "\n",
    "#plt.scatter(converted_particles[:,0], converted_particles[:,1])\n",
    "plt.plot(xs[:,0], xs[:,1])\n",
    "plt.show()"
   ]
  },
  {
   "cell_type": "code",
   "execution_count": 118,
   "id": "9126e154",
   "metadata": {},
   "outputs": [
    {
     "data": {
      "text/plain": [
       "array([  89.87601539,    5.0498498 ,    7.04957677,    6.21794897,\n",
       "          1.45478145, -105.70230154,   43.13096862,    3.80378066,\n",
       "          1.87258304,    5.86148025,    4.88933962,   98.39890965,\n",
       "         29.8924621 ,    3.16951098,    8.8262027 ,    0.19607461,\n",
       "          1.14164864,  -80.00001231,   33.76801197,    1.77112524,\n",
       "          8.77728219,    2.97334356,    1.22797221,  -22.65526556,\n",
       "         48.4184837 ,    4.11103464,    8.87715832,    5.41262946,\n",
       "          0.51397297,  -97.16700096,   18.15731864,    9.01514783,\n",
       "          9.42057396,    5.59581735,    4.88502452,  -60.94060905,\n",
       "        -19.00678056,    2.78089541,    0.88077057,    0.68754409,\n",
       "          4.77713649,   75.65490949,  -21.77465498,    4.0160926 ,\n",
       "          5.7925454 ,    3.07008927,    1.10135832,   68.05551041,\n",
       "         -7.93227455,    0.9160211 ,    1.9939821 ,    5.21538   ,\n",
       "          4.84651794,  -60.40711443,  -19.72959774,    9.64086559,\n",
       "          2.04230472,    2.83494334,    5.23008751])"
      ]
     },
     "execution_count": 118,
     "metadata": {},
     "output_type": "execute_result"
    }
   ],
   "source": [
    "np.delete(particles,1)"
   ]
  },
  {
   "cell_type": "code",
   "execution_count": 80,
   "id": "25813d06",
   "metadata": {},
   "outputs": [
    {
     "data": {
      "text/plain": [
       "2195"
      ]
     },
     "execution_count": 80,
     "metadata": {},
     "output_type": "execute_result"
    }
   ],
   "source": [
    "len(dm.distance_map)"
   ]
  },
  {
   "cell_type": "code",
   "execution_count": null,
   "id": "f6389f58",
   "metadata": {},
   "outputs": [],
   "source": []
  }
 ],
 "metadata": {
  "kernelspec": {
   "display_name": "Python 3 (ipykernel)",
   "language": "python",
   "name": "python3"
  },
  "language_info": {
   "codemirror_mode": {
    "name": "ipython",
    "version": 3
   },
   "file_extension": ".py",
   "mimetype": "text/x-python",
   "name": "python",
   "nbconvert_exporter": "python",
   "pygments_lexer": "ipython3",
   "version": "3.8.13"
  }
 },
 "nbformat": 4,
 "nbformat_minor": 5
}
