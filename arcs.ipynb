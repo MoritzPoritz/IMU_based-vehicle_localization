{
 "cells": [
  {
   "cell_type": "code",
   "execution_count": 1,
   "metadata": {},
   "outputs": [],
   "source": [
    "import matplotlib.pyplot as plt\n",
    "import numpy as np\n",
    "import sys\n",
    "  \n",
    "# setting path\n",
    "import parse_map\n",
    "%matplotlib inline\n",
    "\n",
    "DEG_TO_RAD = np.pi/180\n",
    "RAD_TO_DEG = 180/np.pi"
   ]
  },
  {
   "cell_type": "code",
   "execution_count": 92,
   "metadata": {},
   "outputs": [],
   "source": [
    "def calculate_line(length, hdg, x,y):      \n",
    "    return lambda t: (np.array([np.cos(hdg), np.sin(hdg)]) * length * t) + np.array([x,y])\n",
    "\n",
    "def calculate_arc(curvature, x,y): \n",
    "    return lambda t: np.array([x,y]) + 1/curvature * np.array([np.cos(t/(1/curvature)), np.sin(t/(1/curvature))])\n",
    "\n",
    "def deriv_arc(curvature, x,y): \n",
    "    return lambda t: np.array([-np.sin(t*curvature), np.cos(t*curvature)])\n",
    "\n",
    "def deriv_line(length, hdg): \n",
    "    return lambda t: np.array([-np.sin(hdg), np.cos(hdg)])*length\n",
    "\n",
    "def get_hdg_vec(hdg): \n",
    "    return np.array([np.cos(hdg), np.sin(hdg)])\n",
    "\n",
    "    \n",
    "# returns the arc with correct heading and length\n",
    "def get_adjusted_arc(x,y,hdg, length, curvature):\n",
    "    print(hdg)\n",
    "    # get the derivation of this arc\n",
    "    deriv_of_arc = deriv_arc(length, hdg, curvature, x,y)\n",
    "    # get the derivation of according tangent\n",
    "    deriv_of_line = deriv_line(length, hdg)\n",
    "    # get the tempo vector\n",
    "    tempo_vec = deriv_of_line(0)\n",
    "    #get the gradient of the line\n",
    "    line_gradient = tempo_vec[1] / tempo_vec[0]\n",
    "    #get the stepsize\n",
    "    step = 0.001\n",
    "    # get all the T values\n",
    "    arc_Ts = np.arange(0, 2*np.pi + step, step)\n",
    "    \n",
    "    arc_gradients = []\n",
    "    line_gradients = []\n",
    "    #iterate over t values\n",
    "    for t in arc_Ts: \n",
    "        arc_tempo_vec = deriv_of_arc(t)\n",
    "        if (arc_tempo_vec[0] == 0): \n",
    "            arc_tempo_vec[0] = 0.00000000001\n",
    "        # append the gradients for each t value of the curve in a list\n",
    "        arc_gradients.append(arc_tempo_vec[1] / arc_tempo_vec[0])\n",
    "        line_gradients.append(line_gradient)\n",
    "    \n",
    "    #find the index with the lowest difference between gradients\n",
    "    gradient_diffs = np.array(arc_gradients)-np.array(line_gradients)\n",
    "    min_diff_index = np.argmin(gradient_diffs)\n",
    "    t = arc_Ts[min_diff_index]\n",
    "    \n",
    "\n",
    "    # start at the according t value\n",
    "    arc_Ts = np.arange(t, 10000 + step, step)\n",
    "    arc = calculate_arc(length, hdg, curvature, x,y)\n",
    "    adjusted_arc_points = []\n",
    "    arc_length = 0\n",
    "    # Do the parametrisation and translate all points so that start of the curve is at x,y\n",
    "    for t in arc_Ts: \n",
    "        adjusted_arc_points.append(arc(t))\n",
    "        arc_length += np.linalg.norm(deriv_of_arc(t)*step)\n",
    "        # draw arc as long as it stays in length\n",
    "        if (arc_length >= length): \n",
    "            break\n",
    "        \n",
    "    \n",
    "    # translate points\n",
    "    adjusted_arc_points = np.array(adjusted_arc_points)\n",
    "    difference_vec = np.array(adjusted_arc_points[0] - np.array([x,y])) \n",
    "    adjusted_arc_points = adjusted_arc_points - difference_vec\n",
    "    return adjusted_arc_points\n",
    "\n",
    "\n",
    "\n",
    "def plot_arc(arc_points, tempo_vec_t0, target_vec,tempo_vec_t0_rot):\n",
    "    %matplotlib inline\n",
    "    plt.plot(arc_points[:,0], arc_points[:,1])\n",
    "    plt.scatter(arc_points[0:3,0], arc_points[0:3,1], c=\"orange\")\n",
    "    \n",
    "    plt.quiver(arc_points[0][0], arc_points[0][1], tempo_vec_t0[0], tempo_vec_t0[1])\n",
    "    \n",
    "    plt.quiver(0,0, target_vec[0], target_vec[1])\n",
    "    \n",
    "\n",
    "    plt.gca().set_aspect('equal')\n",
    "    plt.grid(True)\n",
    "    plt.xlim(-3, 3)\n",
    "    plt.ylim(-3, 3)\n",
    "    \n",
    "    plt.show()\n"
   ]
  },
  {
   "cell_type": "code",
   "execution_count": 102,
   "metadata": {},
   "outputs": [],
   "source": [
    "def adjusted_arc(x,y,hdg,length,curvature): \n",
    "    #first create the arc and then translate the tempo vector at the base and apply that translation to all points\n",
    "    step = 0.001\n",
    "    arc_Ts = np.arange(0, 2*np.pi + step, step)\n",
    "\n",
    "    arc = calculate_arc(curvature, x,y)\n",
    "    deriv_of_arc = deriv_arc(curvature, x,y)\n",
    "\n",
    "    adjusted_arc_points = []\n",
    "    arc_length = 0\n",
    "    for t in arc_Ts: \n",
    "        adjusted_arc_points.append(arc(t))\n",
    "        arc_length += np.linalg.norm(deriv_of_arc(t)*step)\n",
    "        if (arc_length >= length): \n",
    "            break\n",
    "\n",
    "    # find the tempo vector at t0\n",
    "    tempo_vec_t0 = deriv_of_arc(arc_Ts[0])\n",
    "\n",
    "    # create the target vector \n",
    "    target_vec = np.array([np.cos(hdg), np.sin(hdg)])\n",
    "\n",
    "    # get angle between vectors \n",
    "    unit_tempo_vec_t0 = tempo_vec_t0 / np.linalg.norm(tempo_vec_t0)\n",
    "    unit_target_vec = target_vec / np.linalg.norm(target_vec)\n",
    "    dot_product = np.dot(unit_tempo_vec_t0, unit_target_vec)\n",
    "    theta = np.arccos(dot_product)\n",
    "    print(str(theta*RAD_TO_DEG) + ' degrees between')\n",
    "\n",
    "\n",
    "    # define rotation matrix\n",
    "    rot = np.array([[np.cos(theta), -np.sin(theta)], [np.sin(theta), np.cos(theta)]])\n",
    "\n",
    "    tempo_vec_t0_rot = np.dot(tempo_vec_t0,rot)\n",
    "\n",
    "    return np.array(adjusted_arc_points), tempo_vec_t0, target_vec, tempo_vec_t0_rot"
   ]
  },
  {
   "cell_type": "code",
   "execution_count": 101,
   "metadata": {},
   "outputs": [
    {
     "name": "stdout",
     "output_type": "stream",
     "text": [
      "90.0 degrees between\n"
     ]
    },
    {
     "data": {
      "image/png": "[encoded data removed]",
      "text/plain": [
       "<Figure size 432x288 with 1 Axes>"
      ]
     },
     "metadata": {
      "needs_background": "light"
     },
     "output_type": "display_data"
    }
   ],
   "source": [
    "arc, tempo_vec_t0, target_vec, tempo_vec_t0_rot = adjusted_arc(x=0,y=0,hdg=np.pi,length=1,curvature=0.9)\n",
    "plot_arc(arc, tempo_vec_t0, target_vec,tempo_vec_t0_rot)"
   ]
  },
  {
   "cell_type": "code",
   "execution_count": 28,
   "metadata": {},
   "outputs": [
    {
     "data": {
      "text/plain": [
       "array([[5.00000000e+00, 0.00000000e+00],\n",
       "       [4.99999990e+00, 9.99999993e-04],\n",
       "       [4.99999960e+00, 1.99999995e-03],\n",
       "       ...,\n",
       "       [4.90092802e+00, 9.90406276e-01],\n",
       "       [4.90072984e+00, 9.91386441e-01],\n",
       "       [4.90053146e+00, 9.92366568e-01]])"
      ]
     },
     "execution_count": 28,
     "metadata": {},
     "output_type": "execute_result"
    }
   ],
   "source": [
    "arc"
   ]
  },
  {
   "cell_type": "code",
   "execution_count": 11,
   "metadata": {},
   "outputs": [],
   "source": [
    "import numpy as np\n",
    "randoms = np.random.rand(20,2)"
   ]
  },
  {
   "cell_type": "code",
   "execution_count": 15,
   "metadata": {},
   "outputs": [],
   "source": [
    "zeros = np.zeros((20,2))"
   ]
  },
  {
   "cell_type": "code",
   "execution_count": 16,
   "metadata": {},
   "outputs": [
    {
     "ename": "TypeError",
     "evalue": "_column_stack_dispatcher() takes 1 positional argument but 2 were given",
     "output_type": "error",
     "traceback": [
      "\u001b[1;31m---------------------------------------------------------------------------\u001b[0m",
      "\u001b[1;31mTypeError\u001b[0m                                 Traceback (most recent call last)",
      "\u001b[1;32mc:\\Users\\Modulo\\Documents\\Uni\\Projekt 2\\Carla\\WindowsNoEditor\\PythonAPI\\Projekt2_Lokalization\\arcs.ipynb Cell 8'\u001b[0m in \u001b[0;36m<cell line: 1>\u001b[1;34m()\u001b[0m\n\u001b[1;32m----> <a href='vscode-notebook-cell:/c%3A/Users/Modulo/Documents/Uni/Projekt%202/Carla/WindowsNoEditor/PythonAPI/Projekt2_Lokalization/arcs.ipynb#ch0000008?line=0'>1</a>\u001b[0m np\u001b[39m.\u001b[39;49mcolumn_stack(randoms, zeros)\n",
      "File \u001b[1;32m<__array_function__ internals>:4\u001b[0m, in \u001b[0;36mcolumn_stack\u001b[1;34m(*args, **kwargs)\u001b[0m\n",
      "\u001b[1;31mTypeError\u001b[0m: _column_stack_dispatcher() takes 1 positional argument but 2 were given"
     ]
    }
   ],
   "source": [
    "np.column_stack(randoms, zeros)"
   ]
  },
  {
   "cell_type": "code",
   "execution_count": 4,
   "metadata": {},
   "outputs": [
    {
     "data": {
      "text/plain": [
       "array([['HI'],\n",
       "       ['HI'],\n",
       "       ['HI'],\n",
       "       ['HI'],\n",
       "       ['HI'],\n",
       "       ['DU'],\n",
       "       ['DU'],\n",
       "       ['DU'],\n",
       "       ['DU']], dtype='<U2')"
      ]
     },
     "execution_count": 4,
     "metadata": {},
     "output_type": "execute_result"
    }
   ],
   "source": [
    "np.concatenate([np.full((5,1), \"HI\"), np.full((4,1), \"DU\")])"
   ]
  },
  {
   "cell_type": "code",
   "execution_count": 10,
   "metadata": {},
   "outputs": [],
   "source": [
    "    line_types = np.full((100,), \"line\")\n"
   ]
  },
  {
   "cell_type": "code",
   "execution_count": 11,
   "metadata": {},
   "outputs": [
    {
     "data": {
      "text/plain": [
       "array(['line', 'line', 'line', 'line', 'line', 'line', 'line', 'line',\n",
       "       'line', 'line', 'line', 'line', 'line', 'line', 'line', 'line',\n",
       "       'line', 'line', 'line', 'line', 'line', 'line', 'line', 'line',\n",
       "       'line', 'line', 'line', 'line', 'line', 'line', 'line', 'line',\n",
       "       'line', 'line', 'line', 'line', 'line', 'line', 'line', 'line',\n",
       "       'line', 'line', 'line', 'line', 'line', 'line', 'line', 'line',\n",
       "       'line', 'line', 'line', 'line', 'line', 'line', 'line', 'line',\n",
       "       'line', 'line', 'line', 'line', 'line', 'line', 'line', 'line',\n",
       "       'line', 'line', 'line', 'line', 'line', 'line', 'line', 'line',\n",
       "       'line', 'line', 'line', 'line', 'line', 'line', 'line', 'line',\n",
       "       'line', 'line', 'line', 'line', 'line', 'line', 'line', 'line',\n",
       "       'line', 'line', 'line', 'line', 'line', 'line', 'line', 'line',\n",
       "       'line', 'line', 'line', 'line'], dtype='<U4')"
      ]
     },
     "execution_count": 11,
     "metadata": {},
     "output_type": "execute_result"
    }
   ],
   "source": [
    "line_types"
   ]
  },
  {
   "cell_type": "code",
   "execution_count": null,
   "metadata": {},
   "outputs": [],
   "source": []
  }
 ],
 "metadata": {
  "interpreter": {
   "hash": "981abfea0e18570999fcb600e9460178291f8a3fb15401c6f1479c763076018b"
  },
  "kernelspec": {
   "display_name": "Python 3.8.13 ('autonomous')",
   "language": "python",
   "name": "python3"
  },
  "language_info": {
   "codemirror_mode": {
    "name": "ipython",
    "version": 3
   },
   "file_extension": ".py",
   "mimetype": "text/x-python",
   "name": "python",
   "nbconvert_exporter": "python",
   "pygments_lexer": "ipython3",
   "version": "3.8.13"
  },
  "orig_nbformat": 4
 },
 "nbformat": 4,
 "nbformat_minor": 2
}
