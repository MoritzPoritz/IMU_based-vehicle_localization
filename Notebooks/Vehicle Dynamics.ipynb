{
 "cells": [
  {
   "cell_type": "code",
   "execution_count": 1,
   "id": "ae07f112",
   "metadata": {},
   "outputs": [],
   "source": [
    "import numpy as np\n",
    "import pandas as pd\n",
    "import matplotlib.pyplot as plt \n",
    "import matplotlib.animation as animation\n",
    "import math\n",
    "%matplotlib qt"
   ]
  },
  {
   "cell_type": "markdown",
   "id": "411a01fb",
   "metadata": {},
   "source": [
    "First we have our state: $\\vec z = \\begin{bmatrix} x, y, \\theta, \\delta \\end{bmatrix}^T$\n",
    "We also have our control input: $\\begin{bmatrix} v, \\varphi \\end{bmatrix}^T$\n",
    "\n",
    "For our kinematic model we use the CG kinematic bycicle model in $\\mathbb{R}$\n",
    "\n",
    "$$ \\dot z =\\begin{bmatrix} \\dot x \\\\ \\dot y \\\\ \\dot \\theta \\\\ \\dot \\delta \\end{bmatrix} = \\begin{bmatrix} v \\cos{\\theta + \\beta} \\\\ v \\sin{\\theta + \\beta} \\\\ \\frac{v \\cos{\\beta} \\tan{\\delta}}{L} \\\\ \\varphi \\end{bmatrix}$$"
   ]
  },
  {
   "cell_type": "markdown",
   "id": "5e6b3cf1",
   "metadata": {},
   "source": [
    "We can discretize the model in state space form like the following: \n",
    "$$ \\begin{bmatrix} x_{t+1} \\\\ y_{t+1} \\\\ \\theta_{t+1} \\\\ \\delta_{t+1} \\end{bmatrix} = \\begin{bmatrix} x_t + (v_t \\cos{\\theta_t + \\beta_t}) \\\\ y_t + (v_t \\sin{\\theta_t + \\beta_t}) \\\\ \\theta_t + (\\frac{v_t\\cos{\\beta_t}\\tan{\\delta_t}}{L}) \\\\ \\delta_t + \\varphi_t \\end{bmatrix}$$\n",
    "\n",
    "This model underlies a no slip condition. Meaning there is no slip at the wheels."
   ]
  },
  {
   "cell_type": "markdown",
   "id": "eb35f3da",
   "metadata": {},
   "source": [
    "We enhance the kinematich model by more state parameters like velocity and acceleration\n",
    "\n",
    "\n",
    "\n",
    "$\\vec z = \\begin{bmatrix} x, y, \\dot x, \\dot y, \\ddot x , \\ddot y, \\theta, \\delta \\end{bmatrix}^T$\n",
    "$\\vec u = \\begin{bmatrix} \\ddot x, \\ddot y, \\varphi \\end{bmatrix}^T$\n",
    "\n",
    "$$ \\dot z =\\begin{bmatrix} \\dot x \\\\ \\dot y \\\\ \\ddot x \\\\ \\ddot y \\\\  \\dot \\theta \\\\ \\dot \\delta \\end{bmatrix} = \\begin{bmatrix} v \\cos{\\theta + \\beta} \\\\ v \\sin{\\theta + \\beta} \\\\ 0 \\\\ 0 \\\\ \\frac{v \\cos{\\beta} \\tan{\\delta}}{L} \\\\ 0 \\end{bmatrix} + \\begin{bmatrix} 0 & 0 & 0 \\\\ 0 & 0 & 0 \\\\ 1 & 0 & 0 \\\\ 0 & 1 & 0 \\\\ 0 & 0 & 0 \\\\ 0 & 0 & 1\\end{bmatrix} \\begin{bmatrix} \\ddot x\\\\ \\ddot y\\\\ \\varphi \\end{bmatrix} $$"
   ]
  },
  {
   "cell_type": "markdown",
   "id": "ad1dd38a",
   "metadata": {},
   "source": []
  },
  {
   "cell_type": "code",
   "execution_count": 2,
   "id": "bf7035b4",
   "metadata": {},
   "outputs": [],
   "source": [
    "def get_beta(delta, lr, L): \n",
    "    return np.arctan((lr*np.tan(delta))/L)"
   ]
  },
  {
   "cell_type": "markdown",
   "id": "b07aab8f",
   "metadata": {},
   "source": [
    "For the first test we will use a constant velocity model"
   ]
  },
  {
   "cell_type": "code",
   "execution_count": 3,
   "id": "f0838b75",
   "metadata": {},
   "outputs": [],
   "source": [
    "def f(z, u, step): \n",
    "    # z = [x,y,x_dot, y_dot, theta, delta]\n",
    "    beta = get_beta(z[5],lr, L)\n",
    "\n",
    "    x_dot_next = z[2] + (u[0] * step)\n",
    "    y_dot_next = z[3] + (u[1] * step)\n",
    "    \n",
    "    velocity = np.linalg.norm((x_dot_next, y_dot_next))\n",
    "    x_next = z[0] + ((velocity*np.cos(z[4] + beta)) * step)\n",
    "    y_next = z[1] + ((velocity*np.sin(z[4] + beta)) * step)\n",
    "    theta_next = z[4] + (((velocity*np.cos(beta)*np.tan(z[5]))/L) * step)\n",
    "    delta_next = z[5] + (u[2] * step)\n",
    "    \n",
    "    return np.array([x_next, y_next,x_dot_next, y_dot_next, theta_next, delta_next], dtype=object)  "
   ]
  },
  {
   "cell_type": "code",
   "execution_count": 4,
   "id": "036d4da6",
   "metadata": {},
   "outputs": [],
   "source": [
    "velocity = 1\n",
    "lr = 0.5\n",
    "L = 1.5\n",
    "step = 0.01\n",
    "Ts = np.arange(0, 100, step)\n",
    "#steering = np.sort(np.random.uniform(-2*np.pi + 0.5, 2*np.pi - 0.5, Ts.shape))\n",
    "#steering = np.array([np.pi if t < Ts.max()/2 else 2*np.pi for t in Ts ])\n",
    "#steering = np.array([np.pi for t in Ts ])\n",
    "\n",
    "u = [1, 1, 0]\n",
    "\n",
    "z = [np.array([0,0,0,0,0,1])]\n",
    "\n",
    "for i,t in enumerate(Ts): \n",
    "    z.append(f(z[i],u, step))\n",
    "z = np.array(z, dtype=object)"
   ]
  },
  {
   "cell_type": "code",
   "execution_count": 5,
   "id": "e6a0a64f",
   "metadata": {},
   "outputs": [],
   "source": [
    "fig = plt.figure()\n",
    "ax = fig.add_subplot()\n",
    "ax.set_xlabel(\"X\")\n",
    "ax.set_ylabel(\"Y\")\n",
    "ax.set_xlim(-40, 40)\n",
    "ax.set_ylim(-40, 40)\n",
    "\n",
    "plt.plot(z[:,0], z[:,1], color=\"black\", alpha = 0.5)\n",
    "plt.grid(color='0.95')\n",
    "\n",
    "def func(num):\n",
    "    x = z[num, 0]\n",
    "    y = z[num, 1]\n",
    "    car.set_data(x,y)\n",
    "    \n",
    "    \n",
    "\n",
    "\n",
    "car, = plt.plot([z[0,0]], [z[0,1]], c='r', marker='o')\n",
    "\n",
    "ani = animation.FuncAnimation(fig, func, frames=len(z), interval=200, blit=False)\n",
    "\n",
    "plt.show()"
   ]
  },
  {
   "cell_type": "code",
   "execution_count": null,
   "id": "67ed502b",
   "metadata": {},
   "outputs": [],
   "source": []
  }
 ],
 "metadata": {
  "kernelspec": {
   "display_name": "Python 3 (ipykernel)",
   "language": "python",
   "name": "python3"
  },
  "language_info": {
   "codemirror_mode": {
    "name": "ipython",
    "version": 3
   },
   "file_extension": ".py",
   "mimetype": "text/x-python",
   "name": "python",
   "nbconvert_exporter": "python",
   "pygments_lexer": "ipython3",
   "version": "3.8.13"
  },
  "vscode": {
   "interpreter": {
    "hash": "981abfea0e18570999fcb600e9460178291f8a3fb15401c6f1479c763076018b"
   }
  }
 },
 "nbformat": 4,
 "nbformat_minor": 5
}
