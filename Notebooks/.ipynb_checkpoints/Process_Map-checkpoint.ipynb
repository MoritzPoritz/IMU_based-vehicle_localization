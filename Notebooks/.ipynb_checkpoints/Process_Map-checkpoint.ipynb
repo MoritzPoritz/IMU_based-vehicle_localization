{
 "cells": [
  {
   "cell_type": "code",
   "execution_count": 1,
   "id": "9b9a156f",
   "metadata": {},
   "outputs": [],
   "source": [
    "from lxml import etree \n",
    "import pandas as pd\n",
    "import matplotlib.pyplot as plt\n",
    "import numpy as np\n",
    "%matplotlib inline\n",
    "#%matplotlib qt"
   ]
  },
  {
   "cell_type": "code",
   "execution_count": 2,
   "id": "d64b4c8b",
   "metadata": {},
   "outputs": [],
   "source": [
    "filename = \"../data/data.xodr\""
   ]
  },
  {
   "cell_type": "markdown",
   "id": "baa37a88",
   "metadata": {},
   "source": [
    "## Read XMl File"
   ]
  },
  {
   "cell_type": "code",
   "execution_count": 3,
   "id": "852323fa",
   "metadata": {},
   "outputs": [
    {
     "ename": "FileNotFoundError",
     "evalue": "[Errno 2] No such file or directory: '../data/data.xodr'",
     "output_type": "error",
     "traceback": [
      "\u001b[1;31m---------------------------------------------------------------------------\u001b[0m",
      "\u001b[1;31mFileNotFoundError\u001b[0m                         Traceback (most recent call last)",
      "\u001b[1;32mc:\\Users\\Modulo\\Documents\\Uni\\Projekt 2\\Carla\\WindowsNoEditor\\PythonAPI\\Projekt2_Lokalization\\Notebooks\\.ipynb_checkpoints\\Process_Map-checkpoint.ipynb Cell 4'\u001b[0m in \u001b[0;36m<cell line: 1>\u001b[1;34m()\u001b[0m\n\u001b[1;32m----> <a href='vscode-notebook-cell:/c%3A/Users/Modulo/Documents/Uni/Projekt%202/Carla/WindowsNoEditor/PythonAPI/Projekt2_Lokalization/Notebooks/.ipynb_checkpoints/Process_Map-checkpoint.ipynb#ch0000003?line=0'>1</a>\u001b[0m \u001b[39mwith\u001b[39;00m \u001b[39mopen\u001b[39;49m(filename) \u001b[39mas\u001b[39;00m fi: \n\u001b[0;32m      <a href='vscode-notebook-cell:/c%3A/Users/Modulo/Documents/Uni/Projekt%202/Carla/WindowsNoEditor/PythonAPI/Projekt2_Lokalization/Notebooks/.ipynb_checkpoints/Process_Map-checkpoint.ipynb#ch0000003?line=1'>2</a>\u001b[0m     xml_root \u001b[39m=\u001b[39m etree\u001b[39m.\u001b[39mparse(fi)\u001b[39m.\u001b[39mgetroot()\n",
      "\u001b[1;31mFileNotFoundError\u001b[0m: [Errno 2] No such file or directory: '../data/data.xodr'"
     ]
    }
   ],
   "source": [
    "with open(filename) as fi: \n",
    "    xml_root = etree.parse(fi).getroot()"
   ]
  },
  {
   "cell_type": "code",
   "execution_count": null,
   "id": "c1fb2e24",
   "metadata": {},
   "outputs": [],
   "source": []
  }
 ],
 "metadata": {
  "interpreter": {
   "hash": "981abfea0e18570999fcb600e9460178291f8a3fb15401c6f1479c763076018b"
  },
  "kernelspec": {
   "display_name": "Python 3.8.13 ('autonomous')",
   "language": "python",
   "name": "python3"
  },
  "language_info": {
   "codemirror_mode": {
    "name": "ipython",
    "version": 3
   },
   "file_extension": ".py",
   "mimetype": "text/x-python",
   "name": "python",
   "nbconvert_exporter": "python",
   "pygments_lexer": "ipython3",
   "version": "3.8.13"
  }
 },
 "nbformat": 4,
 "nbformat_minor": 5
}
